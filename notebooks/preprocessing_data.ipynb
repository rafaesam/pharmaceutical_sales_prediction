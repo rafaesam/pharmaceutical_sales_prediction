{
 "cells": [
  {
   "cell_type": "markdown",
   "id": "2dac161b",
   "metadata": {},
   "source": [
    "## Preprocessing of Data\n",
    "We start by importing libraries"
   ]
  },
  {
   "cell_type": "code",
   "execution_count": 1,
   "id": "6db2a7be",
   "metadata": {},
   "outputs": [],
   "source": [
    "import warnings\n",
    "import pandas as pd\n",
    "import seaborn as sns\n",
    "import numpy as np\n",
    "from matplotlib import pyplot as plt\n",
    "import os,sys\n",
    "sys.path.append(os.path.abspath(os.path.join('..')))\n",
    "from scripts.dataframe_overview import DfOverview\n",
    "from scripts.dataframe_cleaner import DfCleaner\n",
    "from scripts.dataframe_outliers import DfOutlier"
   ]
  },
  {
   "cell_type": "code",
   "execution_count": 2,
   "id": "92af91ff",
   "metadata": {},
   "outputs": [],
   "source": [
    "sns.set()\n",
    "%matplotlib inline\n",
    "warnings.filterwarnings(\"ignore\")\n",
    "pd.set_option('display.max_columns', None)\n",
    "pd.set_option('display.max_colwidth', None)\n",
    "pd.set_option('expand_frame_repr', False)\n",
    "pd.set_option('display.float_format', '{:.2f}'.format)"
   ]
  },
  {
   "cell_type": "code",
   "execution_count": 3,
   "id": "8d06d6db",
   "metadata": {},
   "outputs": [],
   "source": [
    "df_store = pd.read_csv('../data/store.csv')\n",
    "df_test = pd.read_csv('../data/test.csv')\n",
    "df_train = pd.read_csv('../data/train.csv')"
   ]
  },
  {
   "cell_type": "markdown",
   "id": "0442da63",
   "metadata": {},
   "source": [
    "We already have a brief description of fields in our dataset:\n",
    "* __Id__ - an Id that represents a (Store, Date) duple within the test set\n",
    "* __Store__ - a unique Id for each store\n",
    "* __Sales__ - the turnover for any given day (this is what you are predicting)\n",
    "* __Customers__ - the number of customers on a given day\n",
    "* __Open__ - an indicator for whether the store was open: 0 = closed, 1 = open\n",
    "* __StateHoliday__ - indicates a state holiday. Normally all stores, with few exceptions, are closed on state holidays. Note that all schools are closed on public holidays and weekends. a = public holiday, b = Easter holiday, c = Christmas, 0 = None\n",
    "* __SchoolHoliday__ - indicates if the (Store, Date) was affected by the closure of public schools\n",
    "* __StoreType__ - differentiates between 4 different store models: a, b, c, d\n",
    "* __Assortment__ - describes an assortment level: a = basic, b = extra, c = extended. Read more about assortment here\n",
    "* __CompetitionDistance__ - distance in meters to the nearest competitor store\n",
    "* __CompetitionOpenSince__[Month/Year] - gives the approximate year and month of the time the nearest competitor was opened\n",
    "* __Promo__ - indicates whether a store is running a promo on that day\n",
    "* __Promo2__ - Promo2 is a continuing and consecutive promotion for some stores: 0 = store is not participating, 1 = store is participating\n",
    "* __Promo2Since__[Year/Week] - describes the year and calendar week when the store started participating in Promo2\n",
    "* __PromoInterval__ - describes the consecutive intervals Promo2 is started, naming the months the promotion is started anew. E.g. \"Feb,May,Aug,Nov\" means each round starts in February, May, August, November of any given year for that store"
   ]
  },
  {
   "cell_type": "markdown",
   "id": "81bd0fd9",
   "metadata": {},
   "source": [
    "# Data Cleaning"
   ]
  },
  {
   "cell_type": "markdown",
   "id": "3075b76e",
   "metadata": {},
   "source": [
    "Now let's take a closer look in the inforamtion of these datasets, e.g. size, shape, missing values, ..etc"
   ]
  },
  {
   "cell_type": "code",
   "execution_count": 4,
   "id": "57f3bd75",
   "metadata": {
    "collapsed": true
   },
   "outputs": [
    {
     "name": "stdout",
     "output_type": "stream",
     "text": [
      "<class 'pandas.core.frame.DataFrame'>\n",
      "RangeIndex: 1115 entries, 0 to 1114\n",
      "Data columns (total 10 columns):\n",
      " #   Column                     Non-Null Count  Dtype  \n",
      "---  ------                     --------------  -----  \n",
      " 0   Store                      1115 non-null   int64  \n",
      " 1   StoreType                  1115 non-null   object \n",
      " 2   Assortment                 1115 non-null   object \n",
      " 3   CompetitionDistance        1112 non-null   float64\n",
      " 4   CompetitionOpenSinceMonth  761 non-null    float64\n",
      " 5   CompetitionOpenSinceYear   761 non-null    float64\n",
      " 6   Promo2                     1115 non-null   int64  \n",
      " 7   Promo2SinceWeek            571 non-null    float64\n",
      " 8   Promo2SinceYear            571 non-null    float64\n",
      " 9   PromoInterval              571 non-null    object \n",
      "dtypes: float64(5), int64(2), object(3)\n",
      "memory usage: 87.2+ KB\n"
     ]
    }
   ],
   "source": [
    "df_store.info()"
   ]
  },
  {
   "cell_type": "markdown",
   "id": "b82285ba",
   "metadata": {},
   "source": [
    "As we can see this dataset, has total __1115__ records"
   ]
  },
  {
   "cell_type": "code",
   "execution_count": 5,
   "id": "30596fb0",
   "metadata": {
    "collapsed": true
   },
   "outputs": [
    {
     "name": "stdout",
     "output_type": "stream",
     "text": [
      "<class 'pandas.core.frame.DataFrame'>\n",
      "RangeIndex: 1017209 entries, 0 to 1017208\n",
      "Data columns (total 9 columns):\n",
      " #   Column         Non-Null Count    Dtype \n",
      "---  ------         --------------    ----- \n",
      " 0   Store          1017209 non-null  int64 \n",
      " 1   DayOfWeek      1017209 non-null  int64 \n",
      " 2   Date           1017209 non-null  object\n",
      " 3   Sales          1017209 non-null  int64 \n",
      " 4   Customers      1017209 non-null  int64 \n",
      " 5   Open           1017209 non-null  int64 \n",
      " 6   Promo          1017209 non-null  int64 \n",
      " 7   StateHoliday   1017209 non-null  object\n",
      " 8   SchoolHoliday  1017209 non-null  int64 \n",
      "dtypes: int64(7), object(2)\n",
      "memory usage: 69.8+ MB\n"
     ]
    }
   ],
   "source": [
    "df_train.info()"
   ]
  },
  {
   "cell_type": "markdown",
   "id": "9df6be2d",
   "metadata": {},
   "source": [
    "This is really big dataset, __1,017,209__ million+ make sense for a train data!"
   ]
  },
  {
   "cell_type": "code",
   "execution_count": 6,
   "id": "b8c30f11",
   "metadata": {
    "collapsed": true
   },
   "outputs": [
    {
     "name": "stdout",
     "output_type": "stream",
     "text": [
      "<class 'pandas.core.frame.DataFrame'>\n",
      "RangeIndex: 41088 entries, 0 to 41087\n",
      "Data columns (total 8 columns):\n",
      " #   Column         Non-Null Count  Dtype  \n",
      "---  ------         --------------  -----  \n",
      " 0   Id             41088 non-null  int64  \n",
      " 1   Store          41088 non-null  int64  \n",
      " 2   DayOfWeek      41088 non-null  int64  \n",
      " 3   Date           41088 non-null  object \n",
      " 4   Open           41077 non-null  float64\n",
      " 5   Promo          41088 non-null  int64  \n",
      " 6   StateHoliday   41088 non-null  object \n",
      " 7   SchoolHoliday  41088 non-null  int64  \n",
      "dtypes: float64(1), int64(5), object(2)\n",
      "memory usage: 2.5+ MB\n"
     ]
    }
   ],
   "source": [
    "df_test.info()"
   ]
  },
  {
   "cell_type": "markdown",
   "id": "75998645",
   "metadata": {},
   "source": [
    "For the test dataset we have total of __41,088__ records"
   ]
  },
  {
   "cell_type": "code",
   "execution_count": 7,
   "id": "86bf1ff8",
   "metadata": {},
   "outputs": [],
   "source": [
    "cleaner = DfCleaner()"
   ]
  },
  {
   "cell_type": "code",
   "execution_count": 8,
   "id": "34f94e3f",
   "metadata": {
    "collapsed": true
   },
   "outputs": [
    {
     "data": {
      "text/html": [
       "<div>\n",
       "<style scoped>\n",
       "    .dataframe tbody tr th:only-of-type {\n",
       "        vertical-align: middle;\n",
       "    }\n",
       "\n",
       "    .dataframe tbody tr th {\n",
       "        vertical-align: top;\n",
       "    }\n",
       "\n",
       "    .dataframe thead th {\n",
       "        text-align: right;\n",
       "    }\n",
       "</style>\n",
       "<table border=\"1\" class=\"dataframe\">\n",
       "  <thead>\n",
       "    <tr style=\"text-align: right;\">\n",
       "      <th></th>\n",
       "      <th>count</th>\n",
       "      <th>null_count</th>\n",
       "      <th>null_percentage</th>\n",
       "      <th>unique_value_count</th>\n",
       "      <th>unique_percentage</th>\n",
       "      <th>dtype</th>\n",
       "    </tr>\n",
       "    <tr>\n",
       "      <th>label</th>\n",
       "      <th></th>\n",
       "      <th></th>\n",
       "      <th></th>\n",
       "      <th></th>\n",
       "      <th></th>\n",
       "      <th></th>\n",
       "    </tr>\n",
       "  </thead>\n",
       "  <tbody>\n",
       "    <tr>\n",
       "      <th>Store</th>\n",
       "      <td>1115</td>\n",
       "      <td>0</td>\n",
       "      <td>0.0%</td>\n",
       "      <td>1115</td>\n",
       "      <td>100.0%</td>\n",
       "      <td>int64</td>\n",
       "    </tr>\n",
       "    <tr>\n",
       "      <th>StoreType</th>\n",
       "      <td>1115</td>\n",
       "      <td>0</td>\n",
       "      <td>0.0%</td>\n",
       "      <td>4</td>\n",
       "      <td>0.36%</td>\n",
       "      <td>object</td>\n",
       "    </tr>\n",
       "    <tr>\n",
       "      <th>Assortment</th>\n",
       "      <td>1115</td>\n",
       "      <td>0</td>\n",
       "      <td>0.0%</td>\n",
       "      <td>3</td>\n",
       "      <td>0.27%</td>\n",
       "      <td>object</td>\n",
       "    </tr>\n",
       "    <tr>\n",
       "      <th>Promo2</th>\n",
       "      <td>1115</td>\n",
       "      <td>0</td>\n",
       "      <td>0.0%</td>\n",
       "      <td>2</td>\n",
       "      <td>0.18%</td>\n",
       "      <td>int64</td>\n",
       "    </tr>\n",
       "    <tr>\n",
       "      <th>CompetitionDistance</th>\n",
       "      <td>1112</td>\n",
       "      <td>3</td>\n",
       "      <td>0.27%</td>\n",
       "      <td>654</td>\n",
       "      <td>58.65%</td>\n",
       "      <td>float64</td>\n",
       "    </tr>\n",
       "    <tr>\n",
       "      <th>CompetitionOpenSinceMonth</th>\n",
       "      <td>761</td>\n",
       "      <td>354</td>\n",
       "      <td>31.75%</td>\n",
       "      <td>12</td>\n",
       "      <td>1.08%</td>\n",
       "      <td>float64</td>\n",
       "    </tr>\n",
       "    <tr>\n",
       "      <th>CompetitionOpenSinceYear</th>\n",
       "      <td>761</td>\n",
       "      <td>354</td>\n",
       "      <td>31.75%</td>\n",
       "      <td>23</td>\n",
       "      <td>2.06%</td>\n",
       "      <td>float64</td>\n",
       "    </tr>\n",
       "    <tr>\n",
       "      <th>Promo2SinceWeek</th>\n",
       "      <td>571</td>\n",
       "      <td>544</td>\n",
       "      <td>48.79%</td>\n",
       "      <td>24</td>\n",
       "      <td>2.15%</td>\n",
       "      <td>float64</td>\n",
       "    </tr>\n",
       "    <tr>\n",
       "      <th>Promo2SinceYear</th>\n",
       "      <td>571</td>\n",
       "      <td>544</td>\n",
       "      <td>48.79%</td>\n",
       "      <td>7</td>\n",
       "      <td>0.63%</td>\n",
       "      <td>float64</td>\n",
       "    </tr>\n",
       "    <tr>\n",
       "      <th>PromoInterval</th>\n",
       "      <td>571</td>\n",
       "      <td>544</td>\n",
       "      <td>48.79%</td>\n",
       "      <td>3</td>\n",
       "      <td>0.27%</td>\n",
       "      <td>object</td>\n",
       "    </tr>\n",
       "  </tbody>\n",
       "</table>\n",
       "</div>"
      ],
      "text/plain": [
       "                           count  null_count null_percentage  unique_value_count unique_percentage    dtype\n",
       "label                                                                                                      \n",
       "Store                       1115           0            0.0%                1115            100.0%    int64\n",
       "StoreType                   1115           0            0.0%                   4             0.36%   object\n",
       "Assortment                  1115           0            0.0%                   3             0.27%   object\n",
       "Promo2                      1115           0            0.0%                   2             0.18%    int64\n",
       "CompetitionDistance         1112           3           0.27%                 654            58.65%  float64\n",
       "CompetitionOpenSinceMonth    761         354          31.75%                  12             1.08%  float64\n",
       "CompetitionOpenSinceYear     761         354          31.75%                  23             2.06%  float64\n",
       "Promo2SinceWeek              571         544          48.79%                  24             2.15%  float64\n",
       "Promo2SinceYear              571         544          48.79%                   7             0.63%  float64\n",
       "PromoInterval                571         544          48.79%                   3             0.27%   object"
      ]
     },
     "execution_count": 8,
     "metadata": {},
     "output_type": "execute_result"
    }
   ],
   "source": [
    "store_overview = DfOverview(df_store)\n",
    "store_overview.getOverview()"
   ]
  },
  {
   "cell_type": "markdown",
   "id": "1207fef3",
   "metadata": {},
   "source": [
    "Start by cleaning data and fill missing values, for the competitionDistance we filled missing values by median. I assume the distance is by meter, right?!"
   ]
  },
  {
   "cell_type": "code",
   "execution_count": 9,
   "id": "0c91e57e",
   "metadata": {},
   "outputs": [],
   "source": [
    "df_store[\"CompetitionDistance\"].median()\n",
    "cleaned_df_store = cleaner.fill_with_median(df_store, ['CompetitionDistance'])"
   ]
  },
  {
   "cell_type": "markdown",
   "id": "5d565f65",
   "metadata": {},
   "source": [
    "Next we have CompetitionOpenSinceMonth and CompetitionOpenSinceYear, for these I just pick up the first month of the year exist and the eldest year. "
   ]
  },
  {
   "cell_type": "code",
   "execution_count": 10,
   "id": "1da5c62b",
   "metadata": {},
   "outputs": [
    {
     "name": "stdout",
     "output_type": "stream",
     "text": [
      "1.0\n",
      "1900.0\n"
     ]
    }
   ],
   "source": [
    "print(cleaned_df_store['CompetitionOpenSinceMonth'].min())\n",
    "print(cleaned_df_store['CompetitionOpenSinceYear'].min())"
   ]
  },
  {
   "cell_type": "code",
   "execution_count": 11,
   "id": "65618a38",
   "metadata": {},
   "outputs": [],
   "source": [
    "cleaned_df_store['CompetitionOpenSinceMonth'] = df_store['CompetitionOpenSinceMonth'].fillna(1)\n",
    "cleaned_df_store['CompetitionOpenSinceYear'] = df_store['CompetitionOpenSinceYear'].fillna(1990)"
   ]
  },
  {
   "cell_type": "markdown",
   "id": "6dcdf095",
   "metadata": {},
   "source": [
    "Finally in store dataframe we have Promo2SinceWeek, Promo2SinceYear and Promo2Interval.. let's look at the unique values as they are not too many"
   ]
  },
  {
   "cell_type": "code",
   "execution_count": 12,
   "id": "4565a653",
   "metadata": {},
   "outputs": [
    {
     "name": "stdout",
     "output_type": "stream",
     "text": [
      "[ 1.  5.  6.  9. 10. 13. 14. 18. 22. 23. 26. 27. 28. 31. 35. 36. 37. 39.\n",
      " 40. 44. 45. 48. 49. 50. nan]\n",
      "[2009. 2010. 2011. 2012. 2013. 2014. 2015.   nan]\n"
     ]
    }
   ],
   "source": [
    "print(np.sort(df_store['Promo2SinceWeek'].unique()))\n",
    "print(np.sort(df_store['Promo2SinceYear'].unique()))"
   ]
  },
  {
   "cell_type": "code",
   "execution_count": 13,
   "id": "bcae18ac",
   "metadata": {},
   "outputs": [],
   "source": [
    "cleaned_df_store['Promo2SinceWeek'] = df_store['Promo2SinceWeek'].fillna(0)\n",
    "cleaned_df_store['Promo2SinceYear'] = df_store['Promo2SinceYear'].fillna(0)"
   ]
  },
  {
   "cell_type": "markdown",
   "id": "28518b57",
   "metadata": {},
   "source": [
    "We left with PromoInterval, as we can see in the output of cell [12] there are mainly four unique interval, so we will split the intervals into four and replace that column of PromoInterval by four new columns:"
   ]
  },
  {
   "cell_type": "code",
   "execution_count": 14,
   "id": "1e516f76",
   "metadata": {},
   "outputs": [],
   "source": [
    "all_month = ['Jan', 'Feb', 'Mar', 'Apr', 'May', 'Jun', 'Jul', 'Aug', 'Sept', 'Oct', 'Nov', 'Dec']\n",
    "def getMonth(months, index):\n",
    "  if(months == 0):\n",
    "    return 0\n",
    "  month = months.split(',')[index]\n",
    "  return all_month.index(month)+1"
   ]
  },
  {
   "cell_type": "code",
   "execution_count": 15,
   "id": "7cd4e8a5",
   "metadata": {},
   "outputs": [],
   "source": [
    "df_store['PromoInterval'] = df_store['PromoInterval'].fillna(0)\n",
    "cleaned_df_store['PromoInterval0'] = df_store.PromoInterval.apply((lambda x: getMonth(x, 0)))\n",
    "cleaned_df_store['PromoInterval1'] = df_store.PromoInterval.apply((lambda x: getMonth(x, 1)))\n",
    "cleaned_df_store['PromoInterval2'] = df_store.PromoInterval.apply((lambda x: getMonth(x, 2)))\n",
    "cleaned_df_store['PromoInterval3'] = df_store.PromoInterval.apply((lambda x: getMonth(x, 3)))\n",
    "df_store = cleaner.drop_columns(df_store, ['PromoInterval'])"
   ]
  },
  {
   "cell_type": "code",
   "execution_count": 16,
   "id": "ad20d8cf",
   "metadata": {
    "collapsed": true
   },
   "outputs": [
    {
     "data": {
      "text/plain": [
       "Store                        0\n",
       "StoreType                    0\n",
       "Assortment                   0\n",
       "CompetitionDistance          0\n",
       "CompetitionOpenSinceMonth    0\n",
       "CompetitionOpenSinceYear     0\n",
       "Promo2                       0\n",
       "Promo2SinceWeek              0\n",
       "Promo2SinceYear              0\n",
       "PromoInterval0               0\n",
       "PromoInterval1               0\n",
       "PromoInterval2               0\n",
       "PromoInterval3               0\n",
       "dtype: int64"
      ]
     },
     "execution_count": 16,
     "metadata": {},
     "output_type": "execute_result"
    }
   ],
   "source": [
    "cleaned_df_store.isna().sum()"
   ]
  },
  {
   "cell_type": "markdown",
   "id": "4b716534",
   "metadata": {},
   "source": [
    "Now we can move on to the next which is train data:"
   ]
  },
  {
   "cell_type": "code",
   "execution_count": 17,
   "id": "5e4c1d03",
   "metadata": {
    "collapsed": true
   },
   "outputs": [
    {
     "data": {
      "text/html": [
       "<div>\n",
       "<style scoped>\n",
       "    .dataframe tbody tr th:only-of-type {\n",
       "        vertical-align: middle;\n",
       "    }\n",
       "\n",
       "    .dataframe tbody tr th {\n",
       "        vertical-align: top;\n",
       "    }\n",
       "\n",
       "    .dataframe thead th {\n",
       "        text-align: right;\n",
       "    }\n",
       "</style>\n",
       "<table border=\"1\" class=\"dataframe\">\n",
       "  <thead>\n",
       "    <tr style=\"text-align: right;\">\n",
       "      <th></th>\n",
       "      <th>count</th>\n",
       "      <th>null_count</th>\n",
       "      <th>null_percentage</th>\n",
       "      <th>unique_value_count</th>\n",
       "      <th>unique_percentage</th>\n",
       "      <th>dtype</th>\n",
       "    </tr>\n",
       "    <tr>\n",
       "      <th>label</th>\n",
       "      <th></th>\n",
       "      <th></th>\n",
       "      <th></th>\n",
       "      <th></th>\n",
       "      <th></th>\n",
       "      <th></th>\n",
       "    </tr>\n",
       "  </thead>\n",
       "  <tbody>\n",
       "    <tr>\n",
       "      <th>Store</th>\n",
       "      <td>1017209</td>\n",
       "      <td>0</td>\n",
       "      <td>0.0%</td>\n",
       "      <td>1115</td>\n",
       "      <td>0.11%</td>\n",
       "      <td>int64</td>\n",
       "    </tr>\n",
       "    <tr>\n",
       "      <th>DayOfWeek</th>\n",
       "      <td>1017209</td>\n",
       "      <td>0</td>\n",
       "      <td>0.0%</td>\n",
       "      <td>7</td>\n",
       "      <td>0.0%</td>\n",
       "      <td>int64</td>\n",
       "    </tr>\n",
       "    <tr>\n",
       "      <th>Date</th>\n",
       "      <td>1017209</td>\n",
       "      <td>0</td>\n",
       "      <td>0.0%</td>\n",
       "      <td>942</td>\n",
       "      <td>0.09%</td>\n",
       "      <td>object</td>\n",
       "    </tr>\n",
       "    <tr>\n",
       "      <th>Sales</th>\n",
       "      <td>1017209</td>\n",
       "      <td>0</td>\n",
       "      <td>0.0%</td>\n",
       "      <td>21734</td>\n",
       "      <td>2.14%</td>\n",
       "      <td>int64</td>\n",
       "    </tr>\n",
       "    <tr>\n",
       "      <th>Customers</th>\n",
       "      <td>1017209</td>\n",
       "      <td>0</td>\n",
       "      <td>0.0%</td>\n",
       "      <td>4086</td>\n",
       "      <td>0.4%</td>\n",
       "      <td>int64</td>\n",
       "    </tr>\n",
       "    <tr>\n",
       "      <th>Open</th>\n",
       "      <td>1017209</td>\n",
       "      <td>0</td>\n",
       "      <td>0.0%</td>\n",
       "      <td>2</td>\n",
       "      <td>0.0%</td>\n",
       "      <td>int64</td>\n",
       "    </tr>\n",
       "    <tr>\n",
       "      <th>Promo</th>\n",
       "      <td>1017209</td>\n",
       "      <td>0</td>\n",
       "      <td>0.0%</td>\n",
       "      <td>2</td>\n",
       "      <td>0.0%</td>\n",
       "      <td>int64</td>\n",
       "    </tr>\n",
       "    <tr>\n",
       "      <th>StateHoliday</th>\n",
       "      <td>1017209</td>\n",
       "      <td>0</td>\n",
       "      <td>0.0%</td>\n",
       "      <td>5</td>\n",
       "      <td>0.0%</td>\n",
       "      <td>object</td>\n",
       "    </tr>\n",
       "    <tr>\n",
       "      <th>SchoolHoliday</th>\n",
       "      <td>1017209</td>\n",
       "      <td>0</td>\n",
       "      <td>0.0%</td>\n",
       "      <td>2</td>\n",
       "      <td>0.0%</td>\n",
       "      <td>int64</td>\n",
       "    </tr>\n",
       "  </tbody>\n",
       "</table>\n",
       "</div>"
      ],
      "text/plain": [
       "                 count  null_count null_percentage  unique_value_count unique_percentage   dtype\n",
       "label                                                                                           \n",
       "Store          1017209           0            0.0%                1115             0.11%   int64\n",
       "DayOfWeek      1017209           0            0.0%                   7              0.0%   int64\n",
       "Date           1017209           0            0.0%                 942             0.09%  object\n",
       "Sales          1017209           0            0.0%               21734             2.14%   int64\n",
       "Customers      1017209           0            0.0%                4086              0.4%   int64\n",
       "Open           1017209           0            0.0%                   2              0.0%   int64\n",
       "Promo          1017209           0            0.0%                   2              0.0%   int64\n",
       "StateHoliday   1017209           0            0.0%                   5              0.0%  object\n",
       "SchoolHoliday  1017209           0            0.0%                   2              0.0%   int64"
      ]
     },
     "execution_count": 17,
     "metadata": {},
     "output_type": "execute_result"
    }
   ],
   "source": [
    "train_overview = DfOverview(df_train)\n",
    "train_overview.getOverview()"
   ]
  },
  {
   "cell_type": "markdown",
   "id": "25d265d8",
   "metadata": {},
   "source": [
    "Beautiful, there isn't any missing values, I'll just rename it be clean data"
   ]
  },
  {
   "cell_type": "code",
   "execution_count": 18,
   "id": "fa0978e5",
   "metadata": {},
   "outputs": [],
   "source": [
    "cleaned_df_train = df_train"
   ]
  },
  {
   "cell_type": "markdown",
   "id": "7523cf4c",
   "metadata": {},
   "source": [
    "Final step in the cleaning is the test data:"
   ]
  },
  {
   "cell_type": "code",
   "execution_count": 19,
   "id": "40500d7e",
   "metadata": {
    "collapsed": true
   },
   "outputs": [
    {
     "data": {
      "text/html": [
       "<div>\n",
       "<style scoped>\n",
       "    .dataframe tbody tr th:only-of-type {\n",
       "        vertical-align: middle;\n",
       "    }\n",
       "\n",
       "    .dataframe tbody tr th {\n",
       "        vertical-align: top;\n",
       "    }\n",
       "\n",
       "    .dataframe thead th {\n",
       "        text-align: right;\n",
       "    }\n",
       "</style>\n",
       "<table border=\"1\" class=\"dataframe\">\n",
       "  <thead>\n",
       "    <tr style=\"text-align: right;\">\n",
       "      <th></th>\n",
       "      <th>count</th>\n",
       "      <th>null_count</th>\n",
       "      <th>null_percentage</th>\n",
       "      <th>unique_value_count</th>\n",
       "      <th>unique_percentage</th>\n",
       "      <th>dtype</th>\n",
       "    </tr>\n",
       "    <tr>\n",
       "      <th>label</th>\n",
       "      <th></th>\n",
       "      <th></th>\n",
       "      <th></th>\n",
       "      <th></th>\n",
       "      <th></th>\n",
       "      <th></th>\n",
       "    </tr>\n",
       "  </thead>\n",
       "  <tbody>\n",
       "    <tr>\n",
       "      <th>Id</th>\n",
       "      <td>41088</td>\n",
       "      <td>0</td>\n",
       "      <td>0.0%</td>\n",
       "      <td>41088</td>\n",
       "      <td>100.0%</td>\n",
       "      <td>int64</td>\n",
       "    </tr>\n",
       "    <tr>\n",
       "      <th>Store</th>\n",
       "      <td>41088</td>\n",
       "      <td>0</td>\n",
       "      <td>0.0%</td>\n",
       "      <td>856</td>\n",
       "      <td>2.08%</td>\n",
       "      <td>int64</td>\n",
       "    </tr>\n",
       "    <tr>\n",
       "      <th>DayOfWeek</th>\n",
       "      <td>41088</td>\n",
       "      <td>0</td>\n",
       "      <td>0.0%</td>\n",
       "      <td>7</td>\n",
       "      <td>0.02%</td>\n",
       "      <td>int64</td>\n",
       "    </tr>\n",
       "    <tr>\n",
       "      <th>Date</th>\n",
       "      <td>41088</td>\n",
       "      <td>0</td>\n",
       "      <td>0.0%</td>\n",
       "      <td>48</td>\n",
       "      <td>0.12%</td>\n",
       "      <td>object</td>\n",
       "    </tr>\n",
       "    <tr>\n",
       "      <th>Promo</th>\n",
       "      <td>41088</td>\n",
       "      <td>0</td>\n",
       "      <td>0.0%</td>\n",
       "      <td>2</td>\n",
       "      <td>0.0%</td>\n",
       "      <td>int64</td>\n",
       "    </tr>\n",
       "    <tr>\n",
       "      <th>StateHoliday</th>\n",
       "      <td>41088</td>\n",
       "      <td>0</td>\n",
       "      <td>0.0%</td>\n",
       "      <td>2</td>\n",
       "      <td>0.0%</td>\n",
       "      <td>object</td>\n",
       "    </tr>\n",
       "    <tr>\n",
       "      <th>SchoolHoliday</th>\n",
       "      <td>41088</td>\n",
       "      <td>0</td>\n",
       "      <td>0.0%</td>\n",
       "      <td>2</td>\n",
       "      <td>0.0%</td>\n",
       "      <td>int64</td>\n",
       "    </tr>\n",
       "    <tr>\n",
       "      <th>Open</th>\n",
       "      <td>41077</td>\n",
       "      <td>11</td>\n",
       "      <td>0.03%</td>\n",
       "      <td>2</td>\n",
       "      <td>0.0%</td>\n",
       "      <td>float64</td>\n",
       "    </tr>\n",
       "  </tbody>\n",
       "</table>\n",
       "</div>"
      ],
      "text/plain": [
       "               count  null_count null_percentage  unique_value_count unique_percentage    dtype\n",
       "label                                                                                          \n",
       "Id             41088           0            0.0%               41088            100.0%    int64\n",
       "Store          41088           0            0.0%                 856             2.08%    int64\n",
       "DayOfWeek      41088           0            0.0%                   7             0.02%    int64\n",
       "Date           41088           0            0.0%                  48             0.12%   object\n",
       "Promo          41088           0            0.0%                   2              0.0%    int64\n",
       "StateHoliday   41088           0            0.0%                   2              0.0%   object\n",
       "SchoolHoliday  41088           0            0.0%                   2              0.0%    int64\n",
       "Open           41077          11           0.03%                   2              0.0%  float64"
      ]
     },
     "execution_count": 19,
     "metadata": {},
     "output_type": "execute_result"
    }
   ],
   "source": [
    "test_overview = DfOverview(df_test)\n",
    "test_overview.getOverview()"
   ]
  },
  {
   "cell_type": "markdown",
   "id": "ffa3085b",
   "metadata": {},
   "source": [
    "Almost cleaned except some missing values in the \"Open\" column, we will just fill them with ffil"
   ]
  },
  {
   "cell_type": "code",
   "execution_count": 20,
   "id": "0ad87be1",
   "metadata": {
    "collapsed": true
   },
   "outputs": [
    {
     "data": {
      "text/plain": [
       "Id               0\n",
       "Store            0\n",
       "DayOfWeek        0\n",
       "Date             0\n",
       "Open             0\n",
       "Promo            0\n",
       "StateHoliday     0\n",
       "SchoolHoliday    0\n",
       "dtype: int64"
      ]
     },
     "execution_count": 20,
     "metadata": {},
     "output_type": "execute_result"
    }
   ],
   "source": [
    "cleaned_df_test = cleaner.fix_missing_ffill(df_test, ['Open'])\n",
    "cleaned_df_test.isnull().sum()"
   ]
  },
  {
   "cell_type": "markdown",
   "id": "70169dd7",
   "metadata": {},
   "source": [
    "Now we convert datatypes:"
   ]
  },
  {
   "cell_type": "code",
   "execution_count": 21,
   "id": "4534af40",
   "metadata": {},
   "outputs": [],
   "source": [
    "cleaned_df_train = cleaner.convert_to_datetime(df_train, ['Date'])\n",
    "cleaned_df_test = cleaner.convert_to_datetime(df_test, ['Date'])"
   ]
  },
  {
   "cell_type": "code",
   "execution_count": 22,
   "id": "55833d94",
   "metadata": {},
   "outputs": [],
   "source": [
    "cleaned_df_train[\"StateHoliday\"].loc[cleaned_df_train[\"StateHoliday\"] == 0] = \"0\";\n",
    "cleaned_df_test[\"StateHoliday\"].loc[cleaned_df_test[\"StateHoliday\"] == 0] = \"0\""
   ]
  },
  {
   "cell_type": "code",
   "execution_count": 23,
   "id": "b8dd1a17",
   "metadata": {},
   "outputs": [],
   "source": [
    "chars = [\"0\", \"a\", \"b\", \"c\"]\n",
    "cleaned_df_train['StateHoliday'] = cleaned_df_train['StateHoliday'].apply(lambda x: chars.index(x))\n",
    "cleaned_df_test['StateHoliday'] = cleaned_df_test['StateHoliday'].apply(lambda x: chars.index(x))"
   ]
  },
  {
   "cell_type": "code",
   "execution_count": 24,
   "id": "b6600d1e",
   "metadata": {},
   "outputs": [],
   "source": [
    "chars = [\"a\", \"b\", \"c\", \"d\"]\n",
    "cleaned_df_store['StoreType'] = cleaned_df_store['StoreType'].apply(lambda x: chars.index(x))\n",
    "cleaned_df_store['Assortment'] = cleaned_df_store['Assortment'].apply(lambda x: chars.index(x))"
   ]
  },
  {
   "cell_type": "code",
   "execution_count": 25,
   "id": "4f425ee3",
   "metadata": {},
   "outputs": [],
   "source": [
    "cleaned_df_store = cleaner.convert_to_integer(cleaned_df_store, ['StoreType', 'Assortment', 'CompetitionDistance', 'CompetitionOpenSinceMonth', 'CompetitionOpenSinceYear', 'Promo2SinceWeek', 'Promo2SinceYear'])\n",
    "cleaned_df_train = cleaner.convert_to_integer(cleaned_df_train, ['StateHoliday', 'SchoolHoliday', 'Customers', 'Sales', 'Open'])\n",
    "cleaned_df_test = cleaner.convert_to_integer(cleaned_df_test, ['StateHoliday', 'SchoolHoliday', 'Open'])"
   ]
  },
  {
   "cell_type": "markdown",
   "id": "6ca18ee7",
   "metadata": {},
   "source": [
    "Finallly we save our cleaned data sets:"
   ]
  },
  {
   "cell_type": "code",
   "execution_count": 27,
   "id": "76f9b664",
   "metadata": {},
   "outputs": [],
   "source": [
    "cleaned_df_store.to_csv('../data/cleaned_store.csv')\n",
    "cleaned_df_train.to_csv('../data/cleaned_train.csv')\n",
    "cleaned_df_test.to_csv('../data/cleaned_test.csv')"
   ]
  },
  {
   "cell_type": "code",
   "execution_count": null,
   "id": "9c104a25",
   "metadata": {},
   "outputs": [],
   "source": []
  }
 ],
 "metadata": {
  "kernelspec": {
   "display_name": "Python 3 (ipykernel)",
   "language": "python",
   "name": "python3"
  },
  "language_info": {
   "codemirror_mode": {
    "name": "ipython",
    "version": 3
   },
   "file_extension": ".py",
   "mimetype": "text/x-python",
   "name": "python",
   "nbconvert_exporter": "python",
   "pygments_lexer": "ipython3",
   "version": "3.9.6"
  }
 },
 "nbformat": 4,
 "nbformat_minor": 5
}
