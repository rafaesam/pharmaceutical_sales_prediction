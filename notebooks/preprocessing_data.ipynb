{
 "cells": [
  {
   "cell_type": "markdown",
   "id": "d3a428b0",
   "metadata": {},
   "source": [
    "## Preprocessing of Data\n",
    "We start by importing libraries"
   ]
  },
  {
   "cell_type": "code",
   "execution_count": 24,
   "id": "d399813f",
   "metadata": {},
   "outputs": [],
   "source": [
    "import warnings\n",
    "import pandas as pd\n",
    "import seaborn as sns\n",
    "import numpy as np\n",
    "from matplotlib import pyplot as plt\n",
    "import os,sys\n",
    "sys.path.append(os.path.abspath(os.path.join('..')))\n",
    "from scripts.dataframe_overview import DfOverview\n",
    "from scripts.dataframe_cleaner import DfCleaner\n",
    "from scripts.dataframe_outliers import DfOutlier"
   ]
  },
  {
   "cell_type": "code",
   "execution_count": 2,
   "id": "bfb21a00",
   "metadata": {},
   "outputs": [],
   "source": [
    "sns.set()\n",
    "%matplotlib inline\n",
    "warnings.filterwarnings(\"ignore\")\n",
    "pd.set_option('display.max_columns', None)\n",
    "pd.set_option('display.max_colwidth', None)\n",
    "pd.set_option('expand_frame_repr', False)\n",
    "pd.set_option('display.float_format', '{:.2f}'.format)"
   ]
  },
  {
   "cell_type": "code",
   "execution_count": 3,
   "id": "7d8b72f1",
   "metadata": {},
   "outputs": [],
   "source": [
    "df_store = pd.read_csv('../data/store.csv')\n",
    "df_test = pd.read_csv('../data/test.csv')\n",
    "df_train = pd.read_csv('../data/train.csv')"
   ]
  },
  {
   "cell_type": "markdown",
   "id": "f0ccfcb9",
   "metadata": {},
   "source": [
    "We already have a brief description of fields in our dataset:\n",
    "* __Id__ - an Id that represents a (Store, Date) duple within the test set\n",
    "* __Store__ - a unique Id for each store\n",
    "* __Sales__ - the turnover for any given day (this is what you are predicting)\n",
    "* __Customers__ - the number of customers on a given day\n",
    "* __Open__ - an indicator for whether the store was open: 0 = closed, 1 = open\n",
    "* __StateHoliday__ - indicates a state holiday. Normally all stores, with few exceptions, are closed on state holidays. Note that all schools are closed on public holidays and weekends. a = public holiday, b = Easter holiday, c = Christmas, 0 = None\n",
    "* __SchoolHoliday__ - indicates if the (Store, Date) was affected by the closure of public schools\n",
    "* __StoreType__ - differentiates between 4 different store models: a, b, c, d\n",
    "* __Assortment__ - describes an assortment level: a = basic, b = extra, c = extended. Read more about assortment here\n",
    "* __CompetitionDistance__ - distance in meters to the nearest competitor store\n",
    "* __CompetitionOpenSince__[Month/Year] - gives the approximate year and month of the time the nearest competitor was opened\n",
    "* __Promo__ - indicates whether a store is running a promo on that day\n",
    "* __Promo2__ - Promo2 is a continuing and consecutive promotion for some stores: 0 = store is not participating, 1 = store is participating\n",
    "* __Promo2Since__[Year/Week] - describes the year and calendar week when the store started participating in Promo2\n",
    "* __PromoInterval__ - describes the consecutive intervals Promo2 is started, naming the months the promotion is started anew. E.g. \"Feb,May,Aug,Nov\" means each round starts in February, May, August, November of any given year for that store"
   ]
  },
  {
   "cell_type": "markdown",
   "id": "e06cbb8b",
   "metadata": {},
   "source": [
    "# Data Cleaning"
   ]
  },
  {
   "cell_type": "markdown",
   "id": "efd15079",
   "metadata": {},
   "source": [
    "Now let's take a closer look in the inforamtion of these datasets, e.g. size, shape, missing values, ..etc"
   ]
  },
  {
   "cell_type": "code",
   "execution_count": 4,
   "id": "ddf22e72",
   "metadata": {},
   "outputs": [
    {
     "name": "stdout",
     "output_type": "stream",
     "text": [
      "<class 'pandas.core.frame.DataFrame'>\n",
      "RangeIndex: 1115 entries, 0 to 1114\n",
      "Data columns (total 10 columns):\n",
      " #   Column                     Non-Null Count  Dtype  \n",
      "---  ------                     --------------  -----  \n",
      " 0   Store                      1115 non-null   int64  \n",
      " 1   StoreType                  1115 non-null   object \n",
      " 2   Assortment                 1115 non-null   object \n",
      " 3   CompetitionDistance        1112 non-null   float64\n",
      " 4   CompetitionOpenSinceMonth  761 non-null    float64\n",
      " 5   CompetitionOpenSinceYear   761 non-null    float64\n",
      " 6   Promo2                     1115 non-null   int64  \n",
      " 7   Promo2SinceWeek            571 non-null    float64\n",
      " 8   Promo2SinceYear            571 non-null    float64\n",
      " 9   PromoInterval              571 non-null    object \n",
      "dtypes: float64(5), int64(2), object(3)\n",
      "memory usage: 87.2+ KB\n"
     ]
    }
   ],
   "source": [
    "df_store.info()"
   ]
  },
  {
   "cell_type": "markdown",
   "id": "d8ff2ef0",
   "metadata": {},
   "source": [
    "As we can see this dataset, has total __1115__ records"
   ]
  },
  {
   "cell_type": "code",
   "execution_count": 5,
   "id": "81276879",
   "metadata": {},
   "outputs": [
    {
     "name": "stdout",
     "output_type": "stream",
     "text": [
      "<class 'pandas.core.frame.DataFrame'>\n",
      "RangeIndex: 1017209 entries, 0 to 1017208\n",
      "Data columns (total 9 columns):\n",
      " #   Column         Non-Null Count    Dtype \n",
      "---  ------         --------------    ----- \n",
      " 0   Store          1017209 non-null  int64 \n",
      " 1   DayOfWeek      1017209 non-null  int64 \n",
      " 2   Date           1017209 non-null  object\n",
      " 3   Sales          1017209 non-null  int64 \n",
      " 4   Customers      1017209 non-null  int64 \n",
      " 5   Open           1017209 non-null  int64 \n",
      " 6   Promo          1017209 non-null  int64 \n",
      " 7   StateHoliday   1017209 non-null  object\n",
      " 8   SchoolHoliday  1017209 non-null  int64 \n",
      "dtypes: int64(7), object(2)\n",
      "memory usage: 69.8+ MB\n"
     ]
    }
   ],
   "source": [
    "df_train.info()"
   ]
  },
  {
   "cell_type": "markdown",
   "id": "ff89f685",
   "metadata": {},
   "source": [
    "This is really big dataset, __1,017,209__ million+ make sense for a train data!"
   ]
  },
  {
   "cell_type": "code",
   "execution_count": 6,
   "id": "f4a2e271",
   "metadata": {},
   "outputs": [
    {
     "name": "stdout",
     "output_type": "stream",
     "text": [
      "<class 'pandas.core.frame.DataFrame'>\n",
      "RangeIndex: 41088 entries, 0 to 41087\n",
      "Data columns (total 8 columns):\n",
      " #   Column         Non-Null Count  Dtype  \n",
      "---  ------         --------------  -----  \n",
      " 0   Id             41088 non-null  int64  \n",
      " 1   Store          41088 non-null  int64  \n",
      " 2   DayOfWeek      41088 non-null  int64  \n",
      " 3   Date           41088 non-null  object \n",
      " 4   Open           41077 non-null  float64\n",
      " 5   Promo          41088 non-null  int64  \n",
      " 6   StateHoliday   41088 non-null  object \n",
      " 7   SchoolHoliday  41088 non-null  int64  \n",
      "dtypes: float64(1), int64(5), object(2)\n",
      "memory usage: 2.5+ MB\n"
     ]
    }
   ],
   "source": [
    "df_test.info()"
   ]
  },
  {
   "cell_type": "markdown",
   "id": "b5fd2b28",
   "metadata": {},
   "source": [
    "For the test dataset we have total of __41,088__ records"
   ]
  },
  {
   "cell_type": "code",
   "execution_count": 7,
   "id": "87e66509",
   "metadata": {},
   "outputs": [],
   "source": [
    "cleaner = DfCleaner()"
   ]
  },
  {
   "cell_type": "code",
   "execution_count": 8,
   "id": "ff76d8dc",
   "metadata": {},
   "outputs": [
    {
     "data": {
      "text/html": [
       "<div>\n",
       "<style scoped>\n",
       "    .dataframe tbody tr th:only-of-type {\n",
       "        vertical-align: middle;\n",
       "    }\n",
       "\n",
       "    .dataframe tbody tr th {\n",
       "        vertical-align: top;\n",
       "    }\n",
       "\n",
       "    .dataframe thead th {\n",
       "        text-align: right;\n",
       "    }\n",
       "</style>\n",
       "<table border=\"1\" class=\"dataframe\">\n",
       "  <thead>\n",
       "    <tr style=\"text-align: right;\">\n",
       "      <th></th>\n",
       "      <th>count</th>\n",
       "      <th>null_count</th>\n",
       "      <th>null_percentage</th>\n",
       "      <th>unique_value_count</th>\n",
       "      <th>unique_percentage</th>\n",
       "      <th>dtype</th>\n",
       "    </tr>\n",
       "    <tr>\n",
       "      <th>label</th>\n",
       "      <th></th>\n",
       "      <th></th>\n",
       "      <th></th>\n",
       "      <th></th>\n",
       "      <th></th>\n",
       "      <th></th>\n",
       "    </tr>\n",
       "  </thead>\n",
       "  <tbody>\n",
       "    <tr>\n",
       "      <th>Store</th>\n",
       "      <td>1115</td>\n",
       "      <td>0</td>\n",
       "      <td>0.0%</td>\n",
       "      <td>1115</td>\n",
       "      <td>100.0%</td>\n",
       "      <td>int64</td>\n",
       "    </tr>\n",
       "    <tr>\n",
       "      <th>StoreType</th>\n",
       "      <td>1115</td>\n",
       "      <td>0</td>\n",
       "      <td>0.0%</td>\n",
       "      <td>4</td>\n",
       "      <td>0.36%</td>\n",
       "      <td>object</td>\n",
       "    </tr>\n",
       "    <tr>\n",
       "      <th>Assortment</th>\n",
       "      <td>1115</td>\n",
       "      <td>0</td>\n",
       "      <td>0.0%</td>\n",
       "      <td>3</td>\n",
       "      <td>0.27%</td>\n",
       "      <td>object</td>\n",
       "    </tr>\n",
       "    <tr>\n",
       "      <th>Promo2</th>\n",
       "      <td>1115</td>\n",
       "      <td>0</td>\n",
       "      <td>0.0%</td>\n",
       "      <td>2</td>\n",
       "      <td>0.18%</td>\n",
       "      <td>int64</td>\n",
       "    </tr>\n",
       "    <tr>\n",
       "      <th>CompetitionDistance</th>\n",
       "      <td>1112</td>\n",
       "      <td>3</td>\n",
       "      <td>0.27%</td>\n",
       "      <td>654</td>\n",
       "      <td>58.65%</td>\n",
       "      <td>float64</td>\n",
       "    </tr>\n",
       "    <tr>\n",
       "      <th>CompetitionOpenSinceMonth</th>\n",
       "      <td>761</td>\n",
       "      <td>354</td>\n",
       "      <td>31.75%</td>\n",
       "      <td>12</td>\n",
       "      <td>1.08%</td>\n",
       "      <td>float64</td>\n",
       "    </tr>\n",
       "    <tr>\n",
       "      <th>CompetitionOpenSinceYear</th>\n",
       "      <td>761</td>\n",
       "      <td>354</td>\n",
       "      <td>31.75%</td>\n",
       "      <td>23</td>\n",
       "      <td>2.06%</td>\n",
       "      <td>float64</td>\n",
       "    </tr>\n",
       "    <tr>\n",
       "      <th>Promo2SinceWeek</th>\n",
       "      <td>571</td>\n",
       "      <td>544</td>\n",
       "      <td>48.79%</td>\n",
       "      <td>24</td>\n",
       "      <td>2.15%</td>\n",
       "      <td>float64</td>\n",
       "    </tr>\n",
       "    <tr>\n",
       "      <th>Promo2SinceYear</th>\n",
       "      <td>571</td>\n",
       "      <td>544</td>\n",
       "      <td>48.79%</td>\n",
       "      <td>7</td>\n",
       "      <td>0.63%</td>\n",
       "      <td>float64</td>\n",
       "    </tr>\n",
       "    <tr>\n",
       "      <th>PromoInterval</th>\n",
       "      <td>571</td>\n",
       "      <td>544</td>\n",
       "      <td>48.79%</td>\n",
       "      <td>3</td>\n",
       "      <td>0.27%</td>\n",
       "      <td>object</td>\n",
       "    </tr>\n",
       "  </tbody>\n",
       "</table>\n",
       "</div>"
      ],
      "text/plain": [
       "                           count  null_count null_percentage  unique_value_count unique_percentage    dtype\n",
       "label                                                                                                      \n",
       "Store                       1115           0            0.0%                1115            100.0%    int64\n",
       "StoreType                   1115           0            0.0%                   4             0.36%   object\n",
       "Assortment                  1115           0            0.0%                   3             0.27%   object\n",
       "Promo2                      1115           0            0.0%                   2             0.18%    int64\n",
       "CompetitionDistance         1112           3           0.27%                 654            58.65%  float64\n",
       "CompetitionOpenSinceMonth    761         354          31.75%                  12             1.08%  float64\n",
       "CompetitionOpenSinceYear     761         354          31.75%                  23             2.06%  float64\n",
       "Promo2SinceWeek              571         544          48.79%                  24             2.15%  float64\n",
       "Promo2SinceYear              571         544          48.79%                   7             0.63%  float64\n",
       "PromoInterval                571         544          48.79%                   3             0.27%   object"
      ]
     },
     "execution_count": 8,
     "metadata": {},
     "output_type": "execute_result"
    }
   ],
   "source": [
    "store_overview = DfOverview(df_store)\n",
    "store_overview.getOverview()"
   ]
  },
  {
   "cell_type": "markdown",
   "id": "272cd687",
   "metadata": {},
   "source": [
    "Start by cleaning data and fill missing values, for the competitionDistance we filled missing values by median. I assume the distance is by meter, right?!"
   ]
  },
  {
   "cell_type": "code",
   "execution_count": 9,
   "id": "341812de",
   "metadata": {},
   "outputs": [],
   "source": [
    "df_store[\"CompetitionDistance\"].median()\n",
    "cleaned_df_store = cleaner.fill_with_median(df_store, ['CompetitionDistance'])"
   ]
  },
  {
   "cell_type": "markdown",
   "id": "4f256ad4",
   "metadata": {},
   "source": [
    "Next we have CompetitionOpenSinceMonth and CompetitionOpenSinceYear, for these I just pick up the first month of the year exist and the eldest year. "
   ]
  },
  {
   "cell_type": "code",
   "execution_count": 10,
   "id": "512e35e3",
   "metadata": {},
   "outputs": [
    {
     "name": "stdout",
     "output_type": "stream",
     "text": [
      "1.0\n",
      "1900.0\n"
     ]
    }
   ],
   "source": [
    "print(cleaned_df_store['CompetitionOpenSinceMonth'].min())\n",
    "print(cleaned_df_store['CompetitionOpenSinceYear'].min())"
   ]
  },
  {
   "cell_type": "code",
   "execution_count": 11,
   "id": "44e143bb",
   "metadata": {},
   "outputs": [],
   "source": [
    "cleaned_df_store['CompetitionOpenSinceMonth'] = cleaned_df_store['CompetitionOpenSinceMonth'].fillna(1)\n",
    "cleaned_df_store['CompetitionOpenSinceYear'] = cleaned_df_store['CompetitionOpenSinceYear'].fillna(1990)"
   ]
  },
  {
   "cell_type": "markdown",
   "id": "213c8e28",
   "metadata": {},
   "source": [
    "Finally in store dataframe we have Promo2SinceWeek, Promo2SinceYear and Promo2Interval.. let's look at the unique values as they are not too many"
   ]
  },
  {
   "cell_type": "code",
   "execution_count": 12,
   "id": "bf7596f2",
   "metadata": {},
   "outputs": [
    {
     "name": "stdout",
     "output_type": "stream",
     "text": [
      "[ 1.  5.  6.  9. 10. 13. 14. 18. 22. 23. 26. 27. 28. 31. 35. 36. 37. 39.\n",
      " 40. 44. 45. 48. 49. 50. nan]\n",
      "[2009. 2010. 2011. 2012. 2013. 2014. 2015.   nan]\n",
      "[nan 'Jan,Apr,Jul,Oct' 'Feb,May,Aug,Nov' 'Mar,Jun,Sept,Dec']\n"
     ]
    }
   ],
   "source": [
    "print(np.sort(cleaned_df_store['Promo2SinceWeek'].unique()))\n",
    "print(np.sort(cleaned_df_store['Promo2SinceYear'].unique()))\n",
    "print(cleaned_df_store['PromoInterval'].unique())"
   ]
  },
  {
   "cell_type": "code",
   "execution_count": 13,
   "id": "7d9e2ac5",
   "metadata": {},
   "outputs": [
    {
     "data": {
      "text/plain": [
       "544"
      ]
     },
     "execution_count": 13,
     "metadata": {},
     "output_type": "execute_result"
    }
   ],
   "source": [
    "cleaned_df_store['Promo2SinceWeek'] = cleaned_df_store['Promo2SinceWeek'].fillna(0)\n",
    "cleaned_df_store['Promo2SinceYear'] = cleaned_df_store['Promo2SinceYear'].fillna(0)\n",
    "cleaned_df_store[\"PromoInterval\"].isna().sum()"
   ]
  },
  {
   "cell_type": "markdown",
   "id": "d5082417",
   "metadata": {},
   "source": [
    "We left with PromoInterval, as we can see in the output of cell [12] there are mainly four unique interval, so we will split the intervals into four and replace that column of PromoInterval by four new columns:"
   ]
  },
  {
   "cell_type": "code",
   "execution_count": 14,
   "id": "abd6ab59",
   "metadata": {},
   "outputs": [],
   "source": [
    "all_month = ['Jan', 'Feb', 'Mar', 'Apr', 'May', 'Jun', 'Jul', 'Aug', 'Sept', 'Oct', 'Nov', 'Dec']\n",
    "def getMonth(months, index):\n",
    "  if(months == 0):\n",
    "    return 0\n",
    "  month = months.split(',')[index]\n",
    "  return all_month.index(month)+1"
   ]
  },
  {
   "cell_type": "code",
   "execution_count": 15,
   "id": "08ae3bff",
   "metadata": {},
   "outputs": [],
   "source": [
    "cleaned_df_store['PromoInterval'] = cleaned_df_store['PromoInterval'].fillna(0)\n",
    "cleaned_df_store['PromoInterval0'] = cleaned_df_store.PromoInterval.apply((lambda x: getMonth(x, 0)))\n",
    "cleaned_df_store['PromoInterval1'] = cleaned_df_store.PromoInterval.apply((lambda x: getMonth(x, 1)))\n",
    "cleaned_df_store['PromoInterval2'] = cleaned_df_store.PromoInterval.apply((lambda x: getMonth(x, 2)))\n",
    "cleaned_df_store['PromoInterval3'] = cleaned_df_store.PromoInterval.apply((lambda x: getMonth(x, 3)))\n",
    "cleaned_df_store = cleaner.drop_columns(cleaned_df_store, ['PromoInterval'])"
   ]
  },
  {
   "cell_type": "code",
   "execution_count": 16,
   "id": "c66f45db",
   "metadata": {},
   "outputs": [
    {
     "data": {
      "text/plain": [
       "Store                        0\n",
       "StoreType                    0\n",
       "Assortment                   0\n",
       "CompetitionDistance          0\n",
       "CompetitionOpenSinceMonth    0\n",
       "CompetitionOpenSinceYear     0\n",
       "Promo2                       0\n",
       "Promo2SinceWeek              0\n",
       "Promo2SinceYear              0\n",
       "PromoInterval0               0\n",
       "PromoInterval1               0\n",
       "PromoInterval2               0\n",
       "PromoInterval3               0\n",
       "dtype: int64"
      ]
     },
     "execution_count": 16,
     "metadata": {},
     "output_type": "execute_result"
    }
   ],
   "source": [
    "cleaned_df_store.isna().sum()"
   ]
  },
  {
   "cell_type": "markdown",
   "id": "93f34e44",
   "metadata": {},
   "source": [
    "Now we can move on to the next which is train data:"
   ]
  },
  {
   "cell_type": "code",
   "execution_count": 17,
   "id": "a79d1a6a",
   "metadata": {},
   "outputs": [
    {
     "data": {
      "text/html": [
       "<div>\n",
       "<style scoped>\n",
       "    .dataframe tbody tr th:only-of-type {\n",
       "        vertical-align: middle;\n",
       "    }\n",
       "\n",
       "    .dataframe tbody tr th {\n",
       "        vertical-align: top;\n",
       "    }\n",
       "\n",
       "    .dataframe thead th {\n",
       "        text-align: right;\n",
       "    }\n",
       "</style>\n",
       "<table border=\"1\" class=\"dataframe\">\n",
       "  <thead>\n",
       "    <tr style=\"text-align: right;\">\n",
       "      <th></th>\n",
       "      <th>count</th>\n",
       "      <th>null_count</th>\n",
       "      <th>null_percentage</th>\n",
       "      <th>unique_value_count</th>\n",
       "      <th>unique_percentage</th>\n",
       "      <th>dtype</th>\n",
       "    </tr>\n",
       "    <tr>\n",
       "      <th>label</th>\n",
       "      <th></th>\n",
       "      <th></th>\n",
       "      <th></th>\n",
       "      <th></th>\n",
       "      <th></th>\n",
       "      <th></th>\n",
       "    </tr>\n",
       "  </thead>\n",
       "  <tbody>\n",
       "    <tr>\n",
       "      <th>Store</th>\n",
       "      <td>1017209</td>\n",
       "      <td>0</td>\n",
       "      <td>0.0%</td>\n",
       "      <td>1115</td>\n",
       "      <td>0.11%</td>\n",
       "      <td>int64</td>\n",
       "    </tr>\n",
       "    <tr>\n",
       "      <th>DayOfWeek</th>\n",
       "      <td>1017209</td>\n",
       "      <td>0</td>\n",
       "      <td>0.0%</td>\n",
       "      <td>7</td>\n",
       "      <td>0.0%</td>\n",
       "      <td>int64</td>\n",
       "    </tr>\n",
       "    <tr>\n",
       "      <th>Date</th>\n",
       "      <td>1017209</td>\n",
       "      <td>0</td>\n",
       "      <td>0.0%</td>\n",
       "      <td>942</td>\n",
       "      <td>0.09%</td>\n",
       "      <td>object</td>\n",
       "    </tr>\n",
       "    <tr>\n",
       "      <th>Sales</th>\n",
       "      <td>1017209</td>\n",
       "      <td>0</td>\n",
       "      <td>0.0%</td>\n",
       "      <td>21734</td>\n",
       "      <td>2.14%</td>\n",
       "      <td>int64</td>\n",
       "    </tr>\n",
       "    <tr>\n",
       "      <th>Customers</th>\n",
       "      <td>1017209</td>\n",
       "      <td>0</td>\n",
       "      <td>0.0%</td>\n",
       "      <td>4086</td>\n",
       "      <td>0.4%</td>\n",
       "      <td>int64</td>\n",
       "    </tr>\n",
       "    <tr>\n",
       "      <th>Open</th>\n",
       "      <td>1017209</td>\n",
       "      <td>0</td>\n",
       "      <td>0.0%</td>\n",
       "      <td>2</td>\n",
       "      <td>0.0%</td>\n",
       "      <td>int64</td>\n",
       "    </tr>\n",
       "    <tr>\n",
       "      <th>Promo</th>\n",
       "      <td>1017209</td>\n",
       "      <td>0</td>\n",
       "      <td>0.0%</td>\n",
       "      <td>2</td>\n",
       "      <td>0.0%</td>\n",
       "      <td>int64</td>\n",
       "    </tr>\n",
       "    <tr>\n",
       "      <th>StateHoliday</th>\n",
       "      <td>1017209</td>\n",
       "      <td>0</td>\n",
       "      <td>0.0%</td>\n",
       "      <td>5</td>\n",
       "      <td>0.0%</td>\n",
       "      <td>object</td>\n",
       "    </tr>\n",
       "    <tr>\n",
       "      <th>SchoolHoliday</th>\n",
       "      <td>1017209</td>\n",
       "      <td>0</td>\n",
       "      <td>0.0%</td>\n",
       "      <td>2</td>\n",
       "      <td>0.0%</td>\n",
       "      <td>int64</td>\n",
       "    </tr>\n",
       "  </tbody>\n",
       "</table>\n",
       "</div>"
      ],
      "text/plain": [
       "                 count  null_count null_percentage  unique_value_count unique_percentage   dtype\n",
       "label                                                                                           \n",
       "Store          1017209           0            0.0%                1115             0.11%   int64\n",
       "DayOfWeek      1017209           0            0.0%                   7              0.0%   int64\n",
       "Date           1017209           0            0.0%                 942             0.09%  object\n",
       "Sales          1017209           0            0.0%               21734             2.14%   int64\n",
       "Customers      1017209           0            0.0%                4086              0.4%   int64\n",
       "Open           1017209           0            0.0%                   2              0.0%   int64\n",
       "Promo          1017209           0            0.0%                   2              0.0%   int64\n",
       "StateHoliday   1017209           0            0.0%                   5              0.0%  object\n",
       "SchoolHoliday  1017209           0            0.0%                   2              0.0%   int64"
      ]
     },
     "execution_count": 17,
     "metadata": {},
     "output_type": "execute_result"
    }
   ],
   "source": [
    "train_overview = DfOverview(df_train)\n",
    "train_overview.getOverview()"
   ]
  },
  {
   "cell_type": "markdown",
   "id": "98fa529d",
   "metadata": {},
   "source": [
    "Beautiful, there isn't any missing values, I'll just rename it be clean data"
   ]
  },
  {
   "cell_type": "code",
   "execution_count": 18,
   "id": "543d8f34",
   "metadata": {},
   "outputs": [],
   "source": [
    "cleaned_df_train = df_train"
   ]
  },
  {
   "cell_type": "markdown",
   "id": "631178dc",
   "metadata": {},
   "source": [
    "Final step in the cleaning is the test data:"
   ]
  },
  {
   "cell_type": "code",
   "execution_count": 19,
   "id": "7c9e453f",
   "metadata": {
    "collapsed": true
   },
   "outputs": [
    {
     "data": {
      "text/html": [
       "<div>\n",
       "<style scoped>\n",
       "    .dataframe tbody tr th:only-of-type {\n",
       "        vertical-align: middle;\n",
       "    }\n",
       "\n",
       "    .dataframe tbody tr th {\n",
       "        vertical-align: top;\n",
       "    }\n",
       "\n",
       "    .dataframe thead th {\n",
       "        text-align: right;\n",
       "    }\n",
       "</style>\n",
       "<table border=\"1\" class=\"dataframe\">\n",
       "  <thead>\n",
       "    <tr style=\"text-align: right;\">\n",
       "      <th></th>\n",
       "      <th>count</th>\n",
       "      <th>null_count</th>\n",
       "      <th>null_percentage</th>\n",
       "      <th>unique_value_count</th>\n",
       "      <th>unique_percentage</th>\n",
       "      <th>dtype</th>\n",
       "    </tr>\n",
       "    <tr>\n",
       "      <th>label</th>\n",
       "      <th></th>\n",
       "      <th></th>\n",
       "      <th></th>\n",
       "      <th></th>\n",
       "      <th></th>\n",
       "      <th></th>\n",
       "    </tr>\n",
       "  </thead>\n",
       "  <tbody>\n",
       "    <tr>\n",
       "      <th>Id</th>\n",
       "      <td>41088</td>\n",
       "      <td>0</td>\n",
       "      <td>0.0%</td>\n",
       "      <td>41088</td>\n",
       "      <td>100.0%</td>\n",
       "      <td>int64</td>\n",
       "    </tr>\n",
       "    <tr>\n",
       "      <th>Store</th>\n",
       "      <td>41088</td>\n",
       "      <td>0</td>\n",
       "      <td>0.0%</td>\n",
       "      <td>856</td>\n",
       "      <td>2.08%</td>\n",
       "      <td>int64</td>\n",
       "    </tr>\n",
       "    <tr>\n",
       "      <th>DayOfWeek</th>\n",
       "      <td>41088</td>\n",
       "      <td>0</td>\n",
       "      <td>0.0%</td>\n",
       "      <td>7</td>\n",
       "      <td>0.02%</td>\n",
       "      <td>int64</td>\n",
       "    </tr>\n",
       "    <tr>\n",
       "      <th>Date</th>\n",
       "      <td>41088</td>\n",
       "      <td>0</td>\n",
       "      <td>0.0%</td>\n",
       "      <td>48</td>\n",
       "      <td>0.12%</td>\n",
       "      <td>object</td>\n",
       "    </tr>\n",
       "    <tr>\n",
       "      <th>Promo</th>\n",
       "      <td>41088</td>\n",
       "      <td>0</td>\n",
       "      <td>0.0%</td>\n",
       "      <td>2</td>\n",
       "      <td>0.0%</td>\n",
       "      <td>int64</td>\n",
       "    </tr>\n",
       "    <tr>\n",
       "      <th>StateHoliday</th>\n",
       "      <td>41088</td>\n",
       "      <td>0</td>\n",
       "      <td>0.0%</td>\n",
       "      <td>2</td>\n",
       "      <td>0.0%</td>\n",
       "      <td>object</td>\n",
       "    </tr>\n",
       "    <tr>\n",
       "      <th>SchoolHoliday</th>\n",
       "      <td>41088</td>\n",
       "      <td>0</td>\n",
       "      <td>0.0%</td>\n",
       "      <td>2</td>\n",
       "      <td>0.0%</td>\n",
       "      <td>int64</td>\n",
       "    </tr>\n",
       "    <tr>\n",
       "      <th>Open</th>\n",
       "      <td>41077</td>\n",
       "      <td>11</td>\n",
       "      <td>0.03%</td>\n",
       "      <td>2</td>\n",
       "      <td>0.0%</td>\n",
       "      <td>float64</td>\n",
       "    </tr>\n",
       "  </tbody>\n",
       "</table>\n",
       "</div>"
      ],
      "text/plain": [
       "               count  null_count null_percentage  unique_value_count unique_percentage    dtype\n",
       "label                                                                                          \n",
       "Id             41088           0            0.0%               41088            100.0%    int64\n",
       "Store          41088           0            0.0%                 856             2.08%    int64\n",
       "DayOfWeek      41088           0            0.0%                   7             0.02%    int64\n",
       "Date           41088           0            0.0%                  48             0.12%   object\n",
       "Promo          41088           0            0.0%                   2              0.0%    int64\n",
       "StateHoliday   41088           0            0.0%                   2              0.0%   object\n",
       "SchoolHoliday  41088           0            0.0%                   2              0.0%    int64\n",
       "Open           41077          11           0.03%                   2              0.0%  float64"
      ]
     },
     "execution_count": 19,
     "metadata": {},
     "output_type": "execute_result"
    }
   ],
   "source": [
    "test_overview = DfOverview(df_test)\n",
    "test_overview.getOverview()"
   ]
  },
  {
   "cell_type": "markdown",
   "id": "fac4c9d8",
   "metadata": {},
   "source": [
    "Almost cleaned except some missing values in the \"Open\" column, we will just fill them with ffil"
   ]
  },
  {
   "cell_type": "code",
   "execution_count": 20,
   "id": "67921a87",
   "metadata": {
    "collapsed": true
   },
   "outputs": [
    {
     "data": {
      "text/plain": [
       "Id               0\n",
       "Store            0\n",
       "DayOfWeek        0\n",
       "Date             0\n",
       "Open             0\n",
       "Promo            0\n",
       "StateHoliday     0\n",
       "SchoolHoliday    0\n",
       "dtype: int64"
      ]
     },
     "execution_count": 20,
     "metadata": {},
     "output_type": "execute_result"
    }
   ],
   "source": [
    "cleaned_df_test = cleaner.fix_missing_ffill(df_test, ['Open'])\n",
    "cleaned_df_test.isnull().sum()"
   ]
  },
  {
   "cell_type": "markdown",
   "id": "621b751a",
   "metadata": {},
   "source": []
  },
  {
   "cell_type": "code",
   "execution_count": null,
   "id": "6a08aaf5",
   "metadata": {},
   "outputs": [],
   "source": []
  },
  {
   "cell_type": "code",
   "execution_count": 35,
   "id": "56ca9638",
   "metadata": {},
   "outputs": [],
   "source": [
    "df_outliers = DfOutlier(cleaned_df_store)\n",
    "df_outliers.replace_outliers_with_iqr(['CompetitionDistance'])\n",
    "cleaned_df_store = df_outliers.df"
   ]
  },
  {
   "cell_type": "code",
   "execution_count": 36,
   "id": "900fd368",
   "metadata": {},
   "outputs": [
    {
     "ename": "TypeError",
     "evalue": "boxplot() got an unexpected keyword argument 'figsize'",
     "output_type": "error",
     "traceback": [
      "\u001b[1;31m---------------------------------------------------------------------------\u001b[0m",
      "\u001b[1;31mTypeError\u001b[0m                                 Traceback (most recent call last)",
      "Input \u001b[1;32mIn [36]\u001b[0m, in \u001b[0;36m<cell line: 1>\u001b[1;34m()\u001b[0m\n\u001b[1;32m----> 1\u001b[0m \u001b[43msns\u001b[49m\u001b[38;5;241;43m.\u001b[39;49m\u001b[43mboxplot\u001b[49m\u001b[43m(\u001b[49m\u001b[43mcleaned_df_store\u001b[49m\u001b[43m[\u001b[49m\u001b[38;5;124;43m'\u001b[39;49m\u001b[38;5;124;43mCompetitionDistance\u001b[39;49m\u001b[38;5;124;43m'\u001b[39;49m\u001b[43m]\u001b[49m\u001b[43m,\u001b[49m\u001b[43m \u001b[49m\u001b[43mfigsize\u001b[49m\u001b[38;5;241;43m=\u001b[39;49m\u001b[43m(\u001b[49m\u001b[38;5;241;43m6\u001b[39;49m\u001b[43m,\u001b[49m\u001b[43m \u001b[49m\u001b[38;5;241;43m4\u001b[39;49m\u001b[43m)\u001b[49m\u001b[43m)\u001b[49m\n",
      "File \u001b[1;32mc:\\users\\rafaa\\appdata\\local\\programs\\python\\python39\\lib\\site-packages\\seaborn\\_decorators.py:46\u001b[0m, in \u001b[0;36m_deprecate_positional_args.<locals>.inner_f\u001b[1;34m(*args, **kwargs)\u001b[0m\n\u001b[0;32m     36\u001b[0m     warnings\u001b[38;5;241m.\u001b[39mwarn(\n\u001b[0;32m     37\u001b[0m         \u001b[38;5;124m\"\u001b[39m\u001b[38;5;124mPass the following variable\u001b[39m\u001b[38;5;132;01m{}\u001b[39;00m\u001b[38;5;124m as \u001b[39m\u001b[38;5;132;01m{}\u001b[39;00m\u001b[38;5;124mkeyword arg\u001b[39m\u001b[38;5;132;01m{}\u001b[39;00m\u001b[38;5;124m: \u001b[39m\u001b[38;5;132;01m{}\u001b[39;00m\u001b[38;5;124m. \u001b[39m\u001b[38;5;124m\"\u001b[39m\n\u001b[0;32m     38\u001b[0m         \u001b[38;5;124m\"\u001b[39m\u001b[38;5;124mFrom version 0.12, the only valid positional argument \u001b[39m\u001b[38;5;124m\"\u001b[39m\n\u001b[1;32m   (...)\u001b[0m\n\u001b[0;32m     43\u001b[0m         \u001b[38;5;167;01mFutureWarning\u001b[39;00m\n\u001b[0;32m     44\u001b[0m     )\n\u001b[0;32m     45\u001b[0m kwargs\u001b[38;5;241m.\u001b[39mupdate({k: arg \u001b[38;5;28;01mfor\u001b[39;00m k, arg \u001b[38;5;129;01min\u001b[39;00m \u001b[38;5;28mzip\u001b[39m(sig\u001b[38;5;241m.\u001b[39mparameters, args)})\n\u001b[1;32m---> 46\u001b[0m \u001b[38;5;28;01mreturn\u001b[39;00m f(\u001b[38;5;241m*\u001b[39m\u001b[38;5;241m*\u001b[39mkwargs)\n",
      "File \u001b[1;32mc:\\users\\rafaa\\appdata\\local\\programs\\python\\python39\\lib\\site-packages\\seaborn\\categorical.py:2251\u001b[0m, in \u001b[0;36mboxplot\u001b[1;34m(x, y, hue, data, order, hue_order, orient, color, palette, saturation, width, dodge, fliersize, linewidth, whis, ax, **kwargs)\u001b[0m\n\u001b[0;32m   2248\u001b[0m     ax \u001b[38;5;241m=\u001b[39m plt\u001b[38;5;241m.\u001b[39mgca()\n\u001b[0;32m   2249\u001b[0m kwargs\u001b[38;5;241m.\u001b[39mupdate(\u001b[38;5;28mdict\u001b[39m(whis\u001b[38;5;241m=\u001b[39mwhis))\n\u001b[1;32m-> 2251\u001b[0m \u001b[43mplotter\u001b[49m\u001b[38;5;241;43m.\u001b[39;49m\u001b[43mplot\u001b[49m\u001b[43m(\u001b[49m\u001b[43max\u001b[49m\u001b[43m,\u001b[49m\u001b[43m \u001b[49m\u001b[43mkwargs\u001b[49m\u001b[43m)\u001b[49m\n\u001b[0;32m   2252\u001b[0m \u001b[38;5;28;01mreturn\u001b[39;00m ax\n",
      "File \u001b[1;32mc:\\users\\rafaa\\appdata\\local\\programs\\python\\python39\\lib\\site-packages\\seaborn\\categorical.py:509\u001b[0m, in \u001b[0;36m_BoxPlotter.plot\u001b[1;34m(self, ax, boxplot_kws)\u001b[0m\n\u001b[0;32m    507\u001b[0m \u001b[38;5;28;01mdef\u001b[39;00m \u001b[38;5;21mplot\u001b[39m(\u001b[38;5;28mself\u001b[39m, ax, boxplot_kws):\n\u001b[0;32m    508\u001b[0m     \u001b[38;5;124;03m\"\"\"Make the plot.\"\"\"\u001b[39;00m\n\u001b[1;32m--> 509\u001b[0m     \u001b[38;5;28;43mself\u001b[39;49m\u001b[38;5;241;43m.\u001b[39;49m\u001b[43mdraw_boxplot\u001b[49m\u001b[43m(\u001b[49m\u001b[43max\u001b[49m\u001b[43m,\u001b[49m\u001b[43m \u001b[49m\u001b[43mboxplot_kws\u001b[49m\u001b[43m)\u001b[49m\n\u001b[0;32m    510\u001b[0m     \u001b[38;5;28mself\u001b[39m\u001b[38;5;241m.\u001b[39mannotate_axes(ax)\n\u001b[0;32m    511\u001b[0m     \u001b[38;5;28;01mif\u001b[39;00m \u001b[38;5;28mself\u001b[39m\u001b[38;5;241m.\u001b[39morient \u001b[38;5;241m==\u001b[39m \u001b[38;5;124m\"\u001b[39m\u001b[38;5;124mh\u001b[39m\u001b[38;5;124m\"\u001b[39m:\n",
      "File \u001b[1;32mc:\\users\\rafaa\\appdata\\local\\programs\\python\\python39\\lib\\site-packages\\seaborn\\categorical.py:441\u001b[0m, in \u001b[0;36m_BoxPlotter.draw_boxplot\u001b[1;34m(self, ax, kws)\u001b[0m\n\u001b[0;32m    438\u001b[0m \u001b[38;5;28;01mif\u001b[39;00m box_data\u001b[38;5;241m.\u001b[39msize \u001b[38;5;241m==\u001b[39m \u001b[38;5;241m0\u001b[39m:\n\u001b[0;32m    439\u001b[0m     \u001b[38;5;28;01mcontinue\u001b[39;00m\n\u001b[1;32m--> 441\u001b[0m artist_dict \u001b[38;5;241m=\u001b[39m ax\u001b[38;5;241m.\u001b[39mboxplot(box_data,\n\u001b[0;32m    442\u001b[0m                          vert\u001b[38;5;241m=\u001b[39mvert,\n\u001b[0;32m    443\u001b[0m                          patch_artist\u001b[38;5;241m=\u001b[39m\u001b[38;5;28;01mTrue\u001b[39;00m,\n\u001b[0;32m    444\u001b[0m                          positions\u001b[38;5;241m=\u001b[39m[i],\n\u001b[0;32m    445\u001b[0m                          widths\u001b[38;5;241m=\u001b[39m\u001b[38;5;28mself\u001b[39m\u001b[38;5;241m.\u001b[39mwidth,\n\u001b[0;32m    446\u001b[0m                          \u001b[38;5;241m*\u001b[39m\u001b[38;5;241m*\u001b[39mkws)\n\u001b[0;32m    447\u001b[0m color \u001b[38;5;241m=\u001b[39m \u001b[38;5;28mself\u001b[39m\u001b[38;5;241m.\u001b[39mcolors[i]\n\u001b[0;32m    448\u001b[0m \u001b[38;5;28mself\u001b[39m\u001b[38;5;241m.\u001b[39mrestyle_boxplot(artist_dict, color, props)\n",
      "File \u001b[1;32mc:\\users\\rafaa\\appdata\\local\\programs\\python\\python39\\lib\\site-packages\\matplotlib\\__init__.py:1412\u001b[0m, in \u001b[0;36m_preprocess_data.<locals>.inner\u001b[1;34m(ax, data, *args, **kwargs)\u001b[0m\n\u001b[0;32m   1409\u001b[0m \u001b[38;5;129m@functools\u001b[39m\u001b[38;5;241m.\u001b[39mwraps(func)\n\u001b[0;32m   1410\u001b[0m \u001b[38;5;28;01mdef\u001b[39;00m \u001b[38;5;21minner\u001b[39m(ax, \u001b[38;5;241m*\u001b[39margs, data\u001b[38;5;241m=\u001b[39m\u001b[38;5;28;01mNone\u001b[39;00m, \u001b[38;5;241m*\u001b[39m\u001b[38;5;241m*\u001b[39mkwargs):\n\u001b[0;32m   1411\u001b[0m     \u001b[38;5;28;01mif\u001b[39;00m data \u001b[38;5;129;01mis\u001b[39;00m \u001b[38;5;28;01mNone\u001b[39;00m:\n\u001b[1;32m-> 1412\u001b[0m         \u001b[38;5;28;01mreturn\u001b[39;00m func(ax, \u001b[38;5;241m*\u001b[39m\u001b[38;5;28mmap\u001b[39m(sanitize_sequence, args), \u001b[38;5;241m*\u001b[39m\u001b[38;5;241m*\u001b[39mkwargs)\n\u001b[0;32m   1414\u001b[0m     bound \u001b[38;5;241m=\u001b[39m new_sig\u001b[38;5;241m.\u001b[39mbind(ax, \u001b[38;5;241m*\u001b[39margs, \u001b[38;5;241m*\u001b[39m\u001b[38;5;241m*\u001b[39mkwargs)\n\u001b[0;32m   1415\u001b[0m     auto_label \u001b[38;5;241m=\u001b[39m (bound\u001b[38;5;241m.\u001b[39marguments\u001b[38;5;241m.\u001b[39mget(label_namer)\n\u001b[0;32m   1416\u001b[0m                   \u001b[38;5;129;01mor\u001b[39;00m bound\u001b[38;5;241m.\u001b[39mkwargs\u001b[38;5;241m.\u001b[39mget(label_namer))\n",
      "\u001b[1;31mTypeError\u001b[0m: boxplot() got an unexpected keyword argument 'figsize'"
     ]
    },
    {
     "data": {
      "image/png": "[encoded data removed]",
      "text/plain": [
       "<Figure size 432x288 with 1 Axes>"
      ]
     },
     "metadata": {
      "needs_background": "light"
     },
     "output_type": "display_data"
    }
   ],
   "source": [
    "sns.boxplot(cleaned_df_store['CompetitionDistance'], figsize=(6, 4))"
   ]
  },
  {
   "cell_type": "code",
   "execution_count": null,
   "id": "4d48e578",
   "metadata": {},
   "outputs": [],
   "source": []
  }
 ],
 "metadata": {
  "kernelspec": {
   "display_name": "Python 3 (ipykernel)",
   "language": "python",
   "name": "python3"
  },
  "language_info": {
   "codemirror_mode": {
    "name": "ipython",
    "version": 3
   },
   "file_extension": ".py",
   "mimetype": "text/x-python",
   "name": "python",
   "nbconvert_exporter": "python",
   "pygments_lexer": "ipython3",
   "version": "3.9.6"
  }
 },
 "nbformat": 4,
 "nbformat_minor": 5
}
