{
 "cells": [
  {
   "cell_type": "markdown",
   "metadata": {},
   "source": [
    "# Time Series Analysis\n",
    "Before we start that we need to make sure all data is preprocessed and all columns have the right name!\n",
    "Of course as usuall we start by importing relevant libraries packages"
   ]
  },
  {
   "cell_type": "code",
   "execution_count": 1,
   "metadata": {},
   "outputs": [],
   "source": [
    "import warnings\n",
    "import pandas as pd\n",
    "from matplotlib import pyplot as plt\n",
    "import seaborn as sb\n",
    "import numpy as np\n",
    "import os, sys\n",
    "sys.path.append(os.path.abspath(os.path.join('..')))\n",
    "from sklearn.preprocessing import StandardScaler\n",
    "from sklearn.pipeline import make_pipeline\n",
    "from sklearn import metrics\n",
    "from sklearn.ensemble import RandomForestRegressor\n",
    "from sklearn.datasets import make_regression\n",
    "#tensorflow or pytorch!\n",
    "import tensorflow as tf"
   ]
  },
  {
   "cell_type": "code",
   "execution_count": 2,
   "metadata": {},
   "outputs": [],
   "source": [
    "sb.set()\n",
    "%matplotlib inline\n",
    "warnings.filterwarnings(\"ignore\")\n",
    "pd.set_option('display.max_columns', None)\n",
    "pd.set_option('display.max_colwidth', None)\n",
    "pd.set_option(\"expand_frame_repr\", False)\n",
    "pd.set_option('display.float_format', '{:.2f}'.format)"
   ]
  },
  {
   "cell_type": "code",
   "execution_count": 3,
   "metadata": {},
   "outputs": [],
   "source": [
    "train_features = pd.read_csv(\"../features/train_features.csv\")\n",
    "test_features = pd.read_csv(\"../features/test_features.csv\")\n",
    "train_sales = pd.read_csv(\"../features/train_sales.csv\")\n",
    "train_customers = pd.read_csv(\"../features/train_customers.csv\")"
   ]
  },
  {
   "cell_type": "code",
   "execution_count": 4,
   "metadata": {},
   "outputs": [
    {
     "name": "stdout",
     "output_type": "stream",
     "text": [
      "<class 'pandas.core.frame.DataFrame'>\n",
      "RangeIndex: 844392 entries, 0 to 844391\n",
      "Data columns (total 23 columns):\n",
      " #   Column                     Non-Null Count   Dtype  \n",
      "---  ------                     --------------   -----  \n",
      " 0   DayOfWeek                  844392 non-null  int64  \n",
      " 1   Promo                      844392 non-null  int64  \n",
      " 2   StateHoliday               844392 non-null  int64  \n",
      " 3   SchoolHoliday              844392 non-null  int64  \n",
      " 4   StoreType                  844392 non-null  int64  \n",
      " 5   Assortment                 844392 non-null  int64  \n",
      " 6   CompetitionDistance        844392 non-null  int64  \n",
      " 7   Promo2                     844392 non-null  int64  \n",
      " 8   PromoInterval0             844392 non-null  int64  \n",
      " 9   PromoInterval1             844392 non-null  int64  \n",
      " 10  PromoInterval2             844392 non-null  int64  \n",
      " 11  PromoInterval3             844392 non-null  int64  \n",
      " 12  days_before_state_holiday  844392 non-null  int64  \n",
      " 13  days_after_state_holiday   844392 non-null  int64  \n",
      " 14  Year                       844392 non-null  int64  \n",
      " 15  Month                      844392 non-null  int64  \n",
      " 16  Day                        844392 non-null  int64  \n",
      " 17  WeekOfYear                 844392 non-null  int64  \n",
      " 18  Weekends                   844392 non-null  int64  \n",
      " 19  Weekdays                   844392 non-null  int64  \n",
      " 20  part_of_month              844392 non-null  int64  \n",
      " 21  CompetitionOpen            844392 non-null  int64  \n",
      " 22  Promo2Open                 844392 non-null  float64\n",
      "dtypes: float64(1), int64(22)\n",
      "memory usage: 148.2 MB\n"
     ]
    }
   ],
   "source": [
    "train_features.info()"
   ]
  },
  {
   "cell_type": "markdown",
   "metadata": {},
   "source": [
    "At this point, all our features are numeric. Since our problem is a regression problem, we can narrow down the list of algorithms we will use for modelling. Random forests Regressor will make for a good start. "
   ]
  },
  {
   "cell_type": "code",
   "execution_count": 5,
   "metadata": {},
   "outputs": [],
   "source": [
    "import lightgbm as lgb"
   ]
  },
  {
   "cell_type": "code",
   "execution_count": 6,
   "metadata": {},
   "outputs": [
    {
     "name": "stdout",
     "output_type": "stream",
     "text": [
      "['DayOfWeek', 'Promo', 'StateHoliday', 'SchoolHoliday', 'StoreType', 'Assortment', 'CompetitionDistance', 'Promo2', 'PromoInterval0', 'PromoInterval1', 'PromoInterval2', 'PromoInterval3', 'days_before_state_holiday', 'days_after_state_holiday', 'Year', 'Month', 'Day', 'WeekOfYear', 'Weekends', 'Weekdays', 'part_of_month', 'CompetitionOpen', 'Promo2Open']\n"
     ]
    }
   ],
   "source": [
    "model = lgb.LGBMRegressor\n",
    "feature_columns = [x for x in train_features]\n",
    "print(feature_columns)"
   ]
  },
  {
   "cell_type": "code",
   "execution_count": 7,
   "metadata": {},
   "outputs": [
    {
     "data": {
      "text/html": [
       "<div>\n",
       "<style scoped>\n",
       "    .dataframe tbody tr th:only-of-type {\n",
       "        vertical-align: middle;\n",
       "    }\n",
       "\n",
       "    .dataframe tbody tr th {\n",
       "        vertical-align: top;\n",
       "    }\n",
       "\n",
       "    .dataframe thead th {\n",
       "        text-align: right;\n",
       "    }\n",
       "</style>\n",
       "<table border=\"1\" class=\"dataframe\">\n",
       "  <thead>\n",
       "    <tr style=\"text-align: right;\">\n",
       "      <th></th>\n",
       "      <th>Feature Importance</th>\n",
       "    </tr>\n",
       "    <tr>\n",
       "      <th>Feature</th>\n",
       "      <th></th>\n",
       "    </tr>\n",
       "  </thead>\n",
       "  <tbody>\n",
       "    <tr>\n",
       "      <th>Assortment</th>\n",
       "      <td>&lt;property object at 0x000002E5C9006EF0&gt;</td>\n",
       "    </tr>\n",
       "    <tr>\n",
       "      <th>CompetitionDistance</th>\n",
       "      <td>&lt;property object at 0x000002E5C9006EF0&gt;</td>\n",
       "    </tr>\n",
       "    <tr>\n",
       "      <th>CompetitionOpen</th>\n",
       "      <td>&lt;property object at 0x000002E5C9006EF0&gt;</td>\n",
       "    </tr>\n",
       "    <tr>\n",
       "      <th>Day</th>\n",
       "      <td>&lt;property object at 0x000002E5C9006EF0&gt;</td>\n",
       "    </tr>\n",
       "    <tr>\n",
       "      <th>DayOfWeek</th>\n",
       "      <td>&lt;property object at 0x000002E5C9006EF0&gt;</td>\n",
       "    </tr>\n",
       "    <tr>\n",
       "      <th>Month</th>\n",
       "      <td>&lt;property object at 0x000002E5C9006EF0&gt;</td>\n",
       "    </tr>\n",
       "    <tr>\n",
       "      <th>Promo</th>\n",
       "      <td>&lt;property object at 0x000002E5C9006EF0&gt;</td>\n",
       "    </tr>\n",
       "    <tr>\n",
       "      <th>Promo2</th>\n",
       "      <td>&lt;property object at 0x000002E5C9006EF0&gt;</td>\n",
       "    </tr>\n",
       "    <tr>\n",
       "      <th>Promo2Open</th>\n",
       "      <td>&lt;property object at 0x000002E5C9006EF0&gt;</td>\n",
       "    </tr>\n",
       "    <tr>\n",
       "      <th>PromoInterval0</th>\n",
       "      <td>&lt;property object at 0x000002E5C9006EF0&gt;</td>\n",
       "    </tr>\n",
       "    <tr>\n",
       "      <th>PromoInterval1</th>\n",
       "      <td>&lt;property object at 0x000002E5C9006EF0&gt;</td>\n",
       "    </tr>\n",
       "    <tr>\n",
       "      <th>PromoInterval2</th>\n",
       "      <td>&lt;property object at 0x000002E5C9006EF0&gt;</td>\n",
       "    </tr>\n",
       "    <tr>\n",
       "      <th>PromoInterval3</th>\n",
       "      <td>&lt;property object at 0x000002E5C9006EF0&gt;</td>\n",
       "    </tr>\n",
       "    <tr>\n",
       "      <th>SchoolHoliday</th>\n",
       "      <td>&lt;property object at 0x000002E5C9006EF0&gt;</td>\n",
       "    </tr>\n",
       "    <tr>\n",
       "      <th>StateHoliday</th>\n",
       "      <td>&lt;property object at 0x000002E5C9006EF0&gt;</td>\n",
       "    </tr>\n",
       "    <tr>\n",
       "      <th>StoreType</th>\n",
       "      <td>&lt;property object at 0x000002E5C9006EF0&gt;</td>\n",
       "    </tr>\n",
       "    <tr>\n",
       "      <th>WeekOfYear</th>\n",
       "      <td>&lt;property object at 0x000002E5C9006EF0&gt;</td>\n",
       "    </tr>\n",
       "    <tr>\n",
       "      <th>Weekdays</th>\n",
       "      <td>&lt;property object at 0x000002E5C9006EF0&gt;</td>\n",
       "    </tr>\n",
       "    <tr>\n",
       "      <th>Weekends</th>\n",
       "      <td>&lt;property object at 0x000002E5C9006EF0&gt;</td>\n",
       "    </tr>\n",
       "    <tr>\n",
       "      <th>Year</th>\n",
       "      <td>&lt;property object at 0x000002E5C9006EF0&gt;</td>\n",
       "    </tr>\n",
       "    <tr>\n",
       "      <th>days_after_state_holiday</th>\n",
       "      <td>&lt;property object at 0x000002E5C9006EF0&gt;</td>\n",
       "    </tr>\n",
       "    <tr>\n",
       "      <th>days_before_state_holiday</th>\n",
       "      <td>&lt;property object at 0x000002E5C9006EF0&gt;</td>\n",
       "    </tr>\n",
       "    <tr>\n",
       "      <th>part_of_month</th>\n",
       "      <td>&lt;property object at 0x000002E5C9006EF0&gt;</td>\n",
       "    </tr>\n",
       "  </tbody>\n",
       "</table>\n",
       "</div>"
      ],
      "text/plain": [
       "                                                Feature Importance\n",
       "Feature                                                           \n",
       "Assortment                 <property object at 0x000002E5C9006EF0>\n",
       "CompetitionDistance        <property object at 0x000002E5C9006EF0>\n",
       "CompetitionOpen            <property object at 0x000002E5C9006EF0>\n",
       "Day                        <property object at 0x000002E5C9006EF0>\n",
       "DayOfWeek                  <property object at 0x000002E5C9006EF0>\n",
       "Month                      <property object at 0x000002E5C9006EF0>\n",
       "Promo                      <property object at 0x000002E5C9006EF0>\n",
       "Promo2                     <property object at 0x000002E5C9006EF0>\n",
       "Promo2Open                 <property object at 0x000002E5C9006EF0>\n",
       "PromoInterval0             <property object at 0x000002E5C9006EF0>\n",
       "PromoInterval1             <property object at 0x000002E5C9006EF0>\n",
       "PromoInterval2             <property object at 0x000002E5C9006EF0>\n",
       "PromoInterval3             <property object at 0x000002E5C9006EF0>\n",
       "SchoolHoliday              <property object at 0x000002E5C9006EF0>\n",
       "StateHoliday               <property object at 0x000002E5C9006EF0>\n",
       "StoreType                  <property object at 0x000002E5C9006EF0>\n",
       "WeekOfYear                 <property object at 0x000002E5C9006EF0>\n",
       "Weekdays                   <property object at 0x000002E5C9006EF0>\n",
       "Weekends                   <property object at 0x000002E5C9006EF0>\n",
       "Year                       <property object at 0x000002E5C9006EF0>\n",
       "days_after_state_holiday   <property object at 0x000002E5C9006EF0>\n",
       "days_before_state_holiday  <property object at 0x000002E5C9006EF0>\n",
       "part_of_month              <property object at 0x000002E5C9006EF0>"
      ]
     },
     "execution_count": 7,
     "metadata": {},
     "output_type": "execute_result"
    }
   ],
   "source": [
    "feature_importance = pd.DataFrame({'Feature': feature_columns, 'Feature Importance': model.feature_importances_})\n",
    "feature_importance = feature_importance.set_index('Feature')\n",
    "feature_importance = feature_importance.sort_values(\"Feature\", ascending=True)\n",
    "feature_importance"
   ]
  },
  {
   "cell_type": "code",
   "execution_count": 8,
   "metadata": {},
   "outputs": [],
   "source": [
    "def plotImp(model, X , num = 20, fig_size = (40, 20)):\n",
    "    feature_imp = pd.DataFrame({'Value':model.feature_importance(),'Feature':X.columns})\n",
    "#     plt.figure(figsize=fig_size)\n",
    "#     sb.set(font_scale = 5)\n",
    "#     sb.barplot(x=\"Value\", y=\"Feature\", data=feature_imp.sort_values(by=\"Value\", \n",
    "#                                                         ascending=False)[0:num])\n",
    "#     plt.title('LightGBM Features (avg over folds)')\n",
    "#     plt.tight_layout()\n",
    "#     plt.savefig('lgbm_importances-01.png')\n",
    "#     plt.show()"
   ]
  },
  {
   "cell_type": "code",
   "execution_count": 9,
   "metadata": {},
   "outputs": [
    {
     "ename": "TypeError",
     "evalue": "arg must be a list, tuple, 1-d array, or Series",
     "output_type": "error",
     "traceback": [
      "\u001b[1;31m---------------------------------------------------------------------------\u001b[0m",
      "\u001b[1;31mTypeError\u001b[0m                                 Traceback (most recent call last)",
      "Input \u001b[1;32mIn [9]\u001b[0m, in \u001b[0;36m<cell line: 1>\u001b[1;34m()\u001b[0m\n\u001b[1;32m----> 1\u001b[0m f \u001b[38;5;241m=\u001b[39m \u001b[43mpd\u001b[49m\u001b[38;5;241;43m.\u001b[39;49m\u001b[43mto_numeric\u001b[49m\u001b[43m(\u001b[49m\u001b[43mfeature_importance\u001b[49m\u001b[43m,\u001b[49m\u001b[43m \u001b[49m\u001b[43mdowncast\u001b[49m\u001b[38;5;241;43m=\u001b[39;49m\u001b[38;5;124;43m'\u001b[39;49m\u001b[38;5;124;43mfloat\u001b[39;49m\u001b[38;5;124;43m'\u001b[39;49m\u001b[43m)\u001b[49m\n",
      "File \u001b[1;32mc:\\users\\rafaa\\appdata\\local\\programs\\python\\python39\\lib\\site-packages\\pandas\\core\\tools\\numeric.py:164\u001b[0m, in \u001b[0;36mto_numeric\u001b[1;34m(arg, errors, downcast)\u001b[0m\n\u001b[0;32m    162\u001b[0m     values \u001b[38;5;241m=\u001b[39m np\u001b[38;5;241m.\u001b[39marray([arg], dtype\u001b[38;5;241m=\u001b[39m\u001b[38;5;124m\"\u001b[39m\u001b[38;5;124mO\u001b[39m\u001b[38;5;124m\"\u001b[39m)\n\u001b[0;32m    163\u001b[0m \u001b[38;5;28;01melif\u001b[39;00m \u001b[38;5;28mgetattr\u001b[39m(arg, \u001b[38;5;124m\"\u001b[39m\u001b[38;5;124mndim\u001b[39m\u001b[38;5;124m\"\u001b[39m, \u001b[38;5;241m1\u001b[39m) \u001b[38;5;241m>\u001b[39m \u001b[38;5;241m1\u001b[39m:\n\u001b[1;32m--> 164\u001b[0m     \u001b[38;5;28;01mraise\u001b[39;00m \u001b[38;5;167;01mTypeError\u001b[39;00m(\u001b[38;5;124m\"\u001b[39m\u001b[38;5;124marg must be a list, tuple, 1-d array, or Series\u001b[39m\u001b[38;5;124m\"\u001b[39m)\n\u001b[0;32m    165\u001b[0m \u001b[38;5;28;01melse\u001b[39;00m:\n\u001b[0;32m    166\u001b[0m     values \u001b[38;5;241m=\u001b[39m arg\n",
      "\u001b[1;31mTypeError\u001b[0m: arg must be a list, tuple, 1-d array, or Series"
     ]
    }
   ],
   "source": [
    "f = pd.to_numeric(feature_importance, downcast='float')"
   ]
  },
  {
   "cell_type": "code",
   "execution_count": null,
   "metadata": {},
   "outputs": [],
   "source": [
    "# sc = StandardScaler()\n",
    "# X_train = sc.fit_transform(X_train)\n",
    "# X_test = sc.transform(X_test)"
   ]
  },
  {
   "cell_type": "code",
   "execution_count": null,
   "metadata": {},
   "outputs": [],
   "source": [
    "# regressor = RandomForestRegressor(n_estimators=20, random_state=0)\n",
    "# regressor.fit(X_train, y_train)\n",
    "# y_pred = regressor.predict(X_test)"
   ]
  },
  {
   "cell_type": "code",
   "execution_count": null,
   "metadata": {},
   "outputs": [],
   "source": [
    "# from sklearn import metrics\n",
    "\n",
    "# print('Mean Absolute Error:', metrics.mean_absolute_error(y_test, y_pred))\n",
    "# print('Mean Squared Error:', metrics.mean_squared_error(y_test, y_pred))\n",
    "# print('Root Mean Squared Error:', np.sqrt(metrics.mean_squared_error(y_test, y_pred)))"
   ]
  }
 ],
 "metadata": {
  "kernelspec": {
   "display_name": "Python 3 (ipykernel)",
   "language": "python",
   "name": "python3"
  },
  "language_info": {
   "codemirror_mode": {
    "name": "ipython",
    "version": 3
   },
   "file_extension": ".py",
   "mimetype": "text/x-python",
   "name": "python",
   "nbconvert_exporter": "python",
   "pygments_lexer": "ipython3",
   "version": "3.9.6"
  }
 },
 "nbformat": 4,
 "nbformat_minor": 2
}
