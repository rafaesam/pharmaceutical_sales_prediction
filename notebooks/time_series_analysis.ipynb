{
 "cells": [
  {
   "cell_type": "markdown",
   "metadata": {},
   "source": [
    "# Time Series Analysis\n",
    "Before we start that we need to make sure all data is preprocessed and all columns have the right name!\n",
    "Of course as usuall we start by importing relevant libraries packages"
   ]
  },
  {
   "cell_type": "code",
   "execution_count": 1,
   "metadata": {},
   "outputs": [],
   "source": [
    "import warnings\n",
    "import pandas as pd\n",
    "from matplotlib import pyplot as plt\n",
    "import seaborn as sb\n",
    "import numpy as np\n",
    "import os, sys\n",
    "sys.path.append(os.path.abspath(os.path.join('..')))\n",
    "import streamlit as st\n",
    "from sklearn.preprocessing import StandardScaler\n",
    "from sklearn.pipeline import make_pipeline\n",
    "from sklearn import metrics\n",
    "from sklearn.ensemble import RandomForestRegressor\n",
    "from sklearn.datasets import make_regression\n",
    "#tensorflow or pytorch!\n",
    "import tensorflow as tf"
   ]
  },
  {
   "cell_type": "code",
   "execution_count": 2,
   "metadata": {},
   "outputs": [],
   "source": [
    "sb.set()\n",
    "%matplotlib inline\n",
    "warnings.filterwarnings(\"ignore\")\n",
    "pd.set_option('display.max_columns', None)\n",
    "pd.set_option('display.max_colwidth', None)\n",
    "pd.set_option(\"expand_frame_repr\", False)\n",
    "pd.set_option('display.float_format', '{:.2f}'.format)\n",
    "from scripts.file_handler import FileHandler"
   ]
  },
  {
   "cell_type": "code",
   "execution_count": 3,
   "metadata": {},
   "outputs": [],
   "source": [
    "train_features = pd.read_csv(\"../features/train_features.csv\")\n",
    "test_features = pd.read_csv(\"../features/test_features.csv\")\n",
    "train_sales = pd.read_csv(\"../features/train_sales.csv\")\n",
    "train_customers = pd.read_csv(\"../features/train_customers.csv\")"
   ]
  },
  {
   "cell_type": "markdown",
   "metadata": {},
   "source": [
    "At this point, all our features are numeric. Since our problem is a regression problem, we can narrow down the list of algorithms we will use for modelling. Random forests Regressor will make for a good start. "
   ]
  },
  {
   "cell_type": "code",
   "execution_count": 4,
   "metadata": {},
   "outputs": [],
   "source": [
    "import lightgbm as lgb\n",
    "model = lgb.LGBMClassifier\n",
    "predict = model.predict\n",
    "fit = model.fit\n",
    "importance = model.feature_importances_"
   ]
  },
  {
   "cell_type": "code",
   "execution_count": 5,
   "metadata": {},
   "outputs": [],
   "source": [
    "features_col = [x for x in train_features]"
   ]
  },
  {
   "cell_type": "code",
   "execution_count": 6,
   "metadata": {
    "scrolled": true
   },
   "outputs": [
    {
     "data": {
      "text/html": [
       "<div>\n",
       "<style scoped>\n",
       "    .dataframe tbody tr th:only-of-type {\n",
       "        vertical-align: middle;\n",
       "    }\n",
       "\n",
       "    .dataframe tbody tr th {\n",
       "        vertical-align: top;\n",
       "    }\n",
       "\n",
       "    .dataframe thead th {\n",
       "        text-align: right;\n",
       "    }\n",
       "</style>\n",
       "<table border=\"1\" class=\"dataframe\">\n",
       "  <thead>\n",
       "    <tr style=\"text-align: right;\">\n",
       "      <th></th>\n",
       "      <th>Feature Importance</th>\n",
       "    </tr>\n",
       "    <tr>\n",
       "      <th>Feature</th>\n",
       "      <th></th>\n",
       "    </tr>\n",
       "  </thead>\n",
       "  <tbody>\n",
       "    <tr>\n",
       "      <th>DayOfWeek</th>\n",
       "      <td>&lt;property object at 0x00000174000250E0&gt;</td>\n",
       "    </tr>\n",
       "    <tr>\n",
       "      <th>Promo</th>\n",
       "      <td>&lt;property object at 0x00000174000250E0&gt;</td>\n",
       "    </tr>\n",
       "    <tr>\n",
       "      <th>StateHoliday</th>\n",
       "      <td>&lt;property object at 0x00000174000250E0&gt;</td>\n",
       "    </tr>\n",
       "    <tr>\n",
       "      <th>SchoolHoliday</th>\n",
       "      <td>&lt;property object at 0x00000174000250E0&gt;</td>\n",
       "    </tr>\n",
       "    <tr>\n",
       "      <th>StoreType</th>\n",
       "      <td>&lt;property object at 0x00000174000250E0&gt;</td>\n",
       "    </tr>\n",
       "    <tr>\n",
       "      <th>Assortment</th>\n",
       "      <td>&lt;property object at 0x00000174000250E0&gt;</td>\n",
       "    </tr>\n",
       "    <tr>\n",
       "      <th>CompetitionDistance</th>\n",
       "      <td>&lt;property object at 0x00000174000250E0&gt;</td>\n",
       "    </tr>\n",
       "    <tr>\n",
       "      <th>Promo2</th>\n",
       "      <td>&lt;property object at 0x00000174000250E0&gt;</td>\n",
       "    </tr>\n",
       "    <tr>\n",
       "      <th>PromoInterval0</th>\n",
       "      <td>&lt;property object at 0x00000174000250E0&gt;</td>\n",
       "    </tr>\n",
       "    <tr>\n",
       "      <th>PromoInterval1</th>\n",
       "      <td>&lt;property object at 0x00000174000250E0&gt;</td>\n",
       "    </tr>\n",
       "    <tr>\n",
       "      <th>PromoInterval2</th>\n",
       "      <td>&lt;property object at 0x00000174000250E0&gt;</td>\n",
       "    </tr>\n",
       "    <tr>\n",
       "      <th>PromoInterval3</th>\n",
       "      <td>&lt;property object at 0x00000174000250E0&gt;</td>\n",
       "    </tr>\n",
       "    <tr>\n",
       "      <th>days_before_state_holiday</th>\n",
       "      <td>&lt;property object at 0x00000174000250E0&gt;</td>\n",
       "    </tr>\n",
       "    <tr>\n",
       "      <th>days_after_state_holiday</th>\n",
       "      <td>&lt;property object at 0x00000174000250E0&gt;</td>\n",
       "    </tr>\n",
       "    <tr>\n",
       "      <th>Year</th>\n",
       "      <td>&lt;property object at 0x00000174000250E0&gt;</td>\n",
       "    </tr>\n",
       "    <tr>\n",
       "      <th>Month</th>\n",
       "      <td>&lt;property object at 0x00000174000250E0&gt;</td>\n",
       "    </tr>\n",
       "    <tr>\n",
       "      <th>Day</th>\n",
       "      <td>&lt;property object at 0x00000174000250E0&gt;</td>\n",
       "    </tr>\n",
       "    <tr>\n",
       "      <th>WeekOfYear</th>\n",
       "      <td>&lt;property object at 0x00000174000250E0&gt;</td>\n",
       "    </tr>\n",
       "    <tr>\n",
       "      <th>Weekends</th>\n",
       "      <td>&lt;property object at 0x00000174000250E0&gt;</td>\n",
       "    </tr>\n",
       "    <tr>\n",
       "      <th>Weekdays</th>\n",
       "      <td>&lt;property object at 0x00000174000250E0&gt;</td>\n",
       "    </tr>\n",
       "    <tr>\n",
       "      <th>part_of_month</th>\n",
       "      <td>&lt;property object at 0x00000174000250E0&gt;</td>\n",
       "    </tr>\n",
       "    <tr>\n",
       "      <th>CompetitionOpen</th>\n",
       "      <td>&lt;property object at 0x00000174000250E0&gt;</td>\n",
       "    </tr>\n",
       "    <tr>\n",
       "      <th>Promo2Open</th>\n",
       "      <td>&lt;property object at 0x00000174000250E0&gt;</td>\n",
       "    </tr>\n",
       "  </tbody>\n",
       "</table>\n",
       "</div>"
      ],
      "text/plain": [
       "                                                Feature Importance\n",
       "Feature                                                           \n",
       "DayOfWeek                  <property object at 0x00000174000250E0>\n",
       "Promo                      <property object at 0x00000174000250E0>\n",
       "StateHoliday               <property object at 0x00000174000250E0>\n",
       "SchoolHoliday              <property object at 0x00000174000250E0>\n",
       "StoreType                  <property object at 0x00000174000250E0>\n",
       "Assortment                 <property object at 0x00000174000250E0>\n",
       "CompetitionDistance        <property object at 0x00000174000250E0>\n",
       "Promo2                     <property object at 0x00000174000250E0>\n",
       "PromoInterval0             <property object at 0x00000174000250E0>\n",
       "PromoInterval1             <property object at 0x00000174000250E0>\n",
       "PromoInterval2             <property object at 0x00000174000250E0>\n",
       "PromoInterval3             <property object at 0x00000174000250E0>\n",
       "days_before_state_holiday  <property object at 0x00000174000250E0>\n",
       "days_after_state_holiday   <property object at 0x00000174000250E0>\n",
       "Year                       <property object at 0x00000174000250E0>\n",
       "Month                      <property object at 0x00000174000250E0>\n",
       "Day                        <property object at 0x00000174000250E0>\n",
       "WeekOfYear                 <property object at 0x00000174000250E0>\n",
       "Weekends                   <property object at 0x00000174000250E0>\n",
       "Weekdays                   <property object at 0x00000174000250E0>\n",
       "part_of_month              <property object at 0x00000174000250E0>\n",
       "CompetitionOpen            <property object at 0x00000174000250E0>\n",
       "Promo2Open                 <property object at 0x00000174000250E0>"
      ]
     },
     "execution_count": 6,
     "metadata": {},
     "output_type": "execute_result"
    }
   ],
   "source": [
    "feat_imp = pd.DataFrame({'Feature': features_col, 'Feature Importance': importance})\n",
    "feat_imp = feat_imp.set_index('Feature')\n",
    "#feat_imp = feat_imp.sort_values(by=['Feature Importance'], ascending=False)\n",
    "feat_imp"
   ]
  },
  {
   "cell_type": "code",
   "execution_count": 7,
   "metadata": {},
   "outputs": [
    {
     "data": {
      "text/html": [
       "<div>\n",
       "<style scoped>\n",
       "    .dataframe tbody tr th:only-of-type {\n",
       "        vertical-align: middle;\n",
       "    }\n",
       "\n",
       "    .dataframe tbody tr th {\n",
       "        vertical-align: top;\n",
       "    }\n",
       "\n",
       "    .dataframe thead th {\n",
       "        text-align: right;\n",
       "    }\n",
       "</style>\n",
       "<table border=\"1\" class=\"dataframe\">\n",
       "  <thead>\n",
       "    <tr style=\"text-align: right;\">\n",
       "      <th></th>\n",
       "      <th>y_true</th>\n",
       "      <th>y_pred</th>\n",
       "    </tr>\n",
       "  </thead>\n",
       "  <tbody>\n",
       "    <tr>\n",
       "      <th>0</th>\n",
       "      <td>3821</td>\n",
       "      <td>&lt;function LGBMClassifier.predict at 0x0000017400024AF0&gt;</td>\n",
       "    </tr>\n",
       "    <tr>\n",
       "      <th>1</th>\n",
       "      <td>10765</td>\n",
       "      <td>&lt;function LGBMClassifier.predict at 0x0000017400024AF0&gt;</td>\n",
       "    </tr>\n",
       "    <tr>\n",
       "      <th>2</th>\n",
       "      <td>8498</td>\n",
       "      <td>&lt;function LGBMClassifier.predict at 0x0000017400024AF0&gt;</td>\n",
       "    </tr>\n",
       "    <tr>\n",
       "      <th>3</th>\n",
       "      <td>3113</td>\n",
       "      <td>&lt;function LGBMClassifier.predict at 0x0000017400024AF0&gt;</td>\n",
       "    </tr>\n",
       "    <tr>\n",
       "      <th>4</th>\n",
       "      <td>17267</td>\n",
       "      <td>&lt;function LGBMClassifier.predict at 0x0000017400024AF0&gt;</td>\n",
       "    </tr>\n",
       "  </tbody>\n",
       "</table>\n",
       "</div>"
      ],
      "text/plain": [
       "   y_true                                                   y_pred\n",
       "0    3821  <function LGBMClassifier.predict at 0x0000017400024AF0>\n",
       "1   10765  <function LGBMClassifier.predict at 0x0000017400024AF0>\n",
       "2    8498  <function LGBMClassifier.predict at 0x0000017400024AF0>\n",
       "3    3113  <function LGBMClassifier.predict at 0x0000017400024AF0>\n",
       "4   17267  <function LGBMClassifier.predict at 0x0000017400024AF0>"
      ]
     },
     "execution_count": 7,
     "metadata": {},
     "output_type": "execute_result"
    }
   ],
   "source": [
    "y_preds = predict\n",
    "prediction_df = train_features.copy()\n",
    "prediction_df[\"y_true\"] = train_sales\n",
    "prediction_df[\"y_pred\"] = y_preds\n",
    "prediction_df[[\"y_true\", \"y_pred\"]].head()"
   ]
  },
  {
   "cell_type": "code",
   "execution_count": 8,
   "metadata": {},
   "outputs": [],
   "source": [
    "# plt.figure(figsize=(10, 6))\n",
    "# ax = sb.barplot(x=\"Feature Importance\", y=feat_imp.index, data=feat_imp)\n",
    "# plt.ylabel('Feature', fontsize=14)\n",
    "# plt.xlabel('Feature Importance', fontsize=14)\n",
    "# plt.show()"
   ]
  },
  {
   "cell_type": "code",
   "execution_count": 9,
   "metadata": {},
   "outputs": [],
   "source": [
    "# sc = StandardScaler()\n",
    "# X_train = sc.fit_transform(X_train)\n",
    "# X_test = sc.transform(X_test)"
   ]
  },
  {
   "cell_type": "code",
   "execution_count": 10,
   "metadata": {},
   "outputs": [],
   "source": [
    "# regressor = RandomForestRegressor(n_estimators=20, random_state=0)\n",
    "# regressor.fit(X_train, y_train)\n",
    "# y_pred = regressor.predict(X_test)"
   ]
  },
  {
   "cell_type": "code",
   "execution_count": 11,
   "metadata": {},
   "outputs": [],
   "source": [
    "# from sklearn import metrics\n",
    "\n",
    "# print('Mean Absolute Error:', metrics.mean_absolute_error(y_test, y_pred))\n",
    "# print('Mean Squared Error:', metrics.mean_squared_error(y_test, y_pred))\n",
    "# print('Root Mean Squared Error:', np.sqrt(metrics.mean_squared_error(y_test, y_pred)))"
   ]
  },
  {
   "cell_type": "code",
   "execution_count": 12,
   "metadata": {},
   "outputs": [],
   "source": [
    "from sklearn.ensemble import RandomForestRegressor"
   ]
  },
  {
   "cell_type": "code",
   "execution_count": 16,
   "metadata": {},
   "outputs": [
    {
     "data": {
      "text/plain": [
       "array([0.06003245, 0.13572627, 0.00122305, 0.00390294, 0.04985069,\n",
       "       0.03073475, 0.36847992, 0.00126703, 0.00640507, 0.00646325,\n",
       "       0.00652721, 0.00574322, 0.02714755, 0.03086309, 0.00422415,\n",
       "       0.01315035, 0.02933927, 0.02303099, 0.00145947, 0.00297048,\n",
       "       0.00128917, 0.12667336, 0.06349629])"
      ]
     },
     "execution_count": 16,
     "metadata": {},
     "output_type": "execute_result"
    }
   ],
   "source": []
  },
  {
   "cell_type": "code",
   "execution_count": null,
   "metadata": {},
   "outputs": [],
   "source": []
  }
 ],
 "metadata": {
  "kernelspec": {
   "display_name": "Python 3 (ipykernel)",
   "language": "python",
   "name": "python3"
  },
  "language_info": {
   "codemirror_mode": {
    "name": "ipython",
    "version": 3
   },
   "file_extension": ".py",
   "mimetype": "text/x-python",
   "name": "python",
   "nbconvert_exporter": "python",
   "pygments_lexer": "ipython3",
   "version": "3.9.6"
  }
 },
 "nbformat": 4,
 "nbformat_minor": 2
}
