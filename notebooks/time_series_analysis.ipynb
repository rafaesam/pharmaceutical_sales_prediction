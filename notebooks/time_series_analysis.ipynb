{
 "cells": [
  {
   "cell_type": "markdown",
   "metadata": {},
   "source": [
    "# Time Series Analysis\n",
    "Before we start that we need to make sure all data is preprocessed and all columns have the right name!\n",
    "Of course as usuall we start by importing relevant libraries packages"
   ]
  },
  {
   "cell_type": "code",
   "execution_count": 1,
   "metadata": {},
   "outputs": [],
   "source": [
    "import warnings\n",
    "import pandas as pd\n",
    "from matplotlib import pyplot as plt\n",
    "import seaborn as sb\n",
    "import numpy as np\n",
    "import os, sys\n",
    "sys.path.append(os.path.abspath(os.path.join('..')))\n",
    "import streamlit as st\n",
    "from sklearn.preprocessing import StandardScaler\n",
    "from sklearn.pipeline import make_pipeline\n",
    "from sklearn import metrics\n",
    "from sklearn.ensemble import RandomForestRegressor\n",
    "from sklearn.datasets import make_regression\n",
    "#tensorflow or pytorch!\n",
    "import tensorflow as tf"
   ]
  },
  {
   "cell_type": "code",
   "execution_count": 3,
   "metadata": {},
   "outputs": [],
   "source": [
    "sb.set()\n",
    "%matplotlib inline\n",
    "warnings.filterwarnings(\"ignore\")\n",
    "pd.set_option('display.max_columns', None)\n",
    "pd.set_option('display.max_colwidth', None)\n",
    "pd.set_option(\"expand_frame_repr\", False)\n",
    "pd.set_option('display.float_format', '{:.2f}'.format)\n",
    "from scripts.file_handler import FileHandler"
   ]
  },
  {
   "cell_type": "code",
   "execution_count": 4,
   "metadata": {},
   "outputs": [],
   "source": [
    "train_features = pd.read_csv(\"../features/train_features.csv\")\n",
    "test_features = pd.read_csv(\"../features/test_features.csv\")\n",
    "train_sales = pd.read_csv(\"../features/train_sales.csv\")\n",
    "train_customers = pd.read_csv(\"../features/train_customers.csv\")"
   ]
  },
  {
   "cell_type": "markdown",
   "metadata": {},
   "source": [
    "At this point, all our features are numeric. Since our problem is a regression problem, we can narrow down the list of algorithms we will use for modelling. Random forests Regressor will make for a good start. "
   ]
  },
  {
   "cell_type": "code",
   "execution_count": 6,
   "metadata": {},
   "outputs": [
    {
     "ename": "TypeError",
     "evalue": "read_model() missing 1 required positional argument: 'model_name'",
     "output_type": "error",
     "traceback": [
      "\u001b[1;31m---------------------------------------------------------------------------\u001b[0m",
      "\u001b[1;31mTypeError\u001b[0m                                 Traceback (most recent call last)",
      "Input \u001b[1;32mIn [6]\u001b[0m, in \u001b[0;36m<cell line: 2>\u001b[1;34m()\u001b[0m\n\u001b[0;32m      1\u001b[0m \u001b[38;5;28;01mimport\u001b[39;00m \u001b[38;5;21;01mlightgbm\u001b[39;00m \u001b[38;5;28;01mas\u001b[39;00m \u001b[38;5;21;01mlgb\u001b[39;00m\n\u001b[1;32m----> 2\u001b[0m model \u001b[38;5;241m=\u001b[39m \u001b[43mFileHandler\u001b[49m\u001b[38;5;241;43m.\u001b[39;49m\u001b[43mread_model\u001b[49m\u001b[43m(\u001b[49m\u001b[38;5;124;43m\"\u001b[39;49m\u001b[38;5;124;43mLGBMRegressor-sales-2021-08-01-19:57\u001b[39;49m\u001b[38;5;124;43m\"\u001b[39;49m\u001b[43m)\u001b[49m\n\u001b[0;32m      3\u001b[0m model\n",
      "\u001b[1;31mTypeError\u001b[0m: read_model() missing 1 required positional argument: 'model_name'"
     ]
    }
   ],
   "source": [
    "import lightgbm as lgb\n",
    "model = lgb.LGBMRegressor\n",
    "predict = model.predict\n",
    "fit = model.fit\n",
    "importance = model.feature_importances_"
   ]
  },
  {
   "cell_type": "code",
   "execution_count": 21,
   "metadata": {},
   "outputs": [],
   "source": [
    "features_col = [x for x in train_features]"
   ]
  },
  {
   "cell_type": "code",
   "execution_count": 23,
   "metadata": {
    "scrolled": true
   },
   "outputs": [
    {
     "data": {
      "text/html": [
       "<div>\n",
       "<style scoped>\n",
       "    .dataframe tbody tr th:only-of-type {\n",
       "        vertical-align: middle;\n",
       "    }\n",
       "\n",
       "    .dataframe tbody tr th {\n",
       "        vertical-align: top;\n",
       "    }\n",
       "\n",
       "    .dataframe thead th {\n",
       "        text-align: right;\n",
       "    }\n",
       "</style>\n",
       "<table border=\"1\" class=\"dataframe\">\n",
       "  <thead>\n",
       "    <tr style=\"text-align: right;\">\n",
       "      <th></th>\n",
       "      <th>Feature Importance</th>\n",
       "    </tr>\n",
       "    <tr>\n",
       "      <th>Feature</th>\n",
       "      <th></th>\n",
       "    </tr>\n",
       "  </thead>\n",
       "  <tbody>\n",
       "    <tr>\n",
       "      <th>DayOfWeek</th>\n",
       "      <td>&lt;property object at 0x000002499FC8FB30&gt;</td>\n",
       "    </tr>\n",
       "    <tr>\n",
       "      <th>Promo</th>\n",
       "      <td>&lt;property object at 0x000002499FC8FB30&gt;</td>\n",
       "    </tr>\n",
       "    <tr>\n",
       "      <th>StateHoliday</th>\n",
       "      <td>&lt;property object at 0x000002499FC8FB30&gt;</td>\n",
       "    </tr>\n",
       "    <tr>\n",
       "      <th>SchoolHoliday</th>\n",
       "      <td>&lt;property object at 0x000002499FC8FB30&gt;</td>\n",
       "    </tr>\n",
       "    <tr>\n",
       "      <th>StoreType</th>\n",
       "      <td>&lt;property object at 0x000002499FC8FB30&gt;</td>\n",
       "    </tr>\n",
       "    <tr>\n",
       "      <th>Assortment</th>\n",
       "      <td>&lt;property object at 0x000002499FC8FB30&gt;</td>\n",
       "    </tr>\n",
       "    <tr>\n",
       "      <th>CompetitionDistance</th>\n",
       "      <td>&lt;property object at 0x000002499FC8FB30&gt;</td>\n",
       "    </tr>\n",
       "    <tr>\n",
       "      <th>Promo2</th>\n",
       "      <td>&lt;property object at 0x000002499FC8FB30&gt;</td>\n",
       "    </tr>\n",
       "    <tr>\n",
       "      <th>PromoInterval0</th>\n",
       "      <td>&lt;property object at 0x000002499FC8FB30&gt;</td>\n",
       "    </tr>\n",
       "    <tr>\n",
       "      <th>PromoInterval1</th>\n",
       "      <td>&lt;property object at 0x000002499FC8FB30&gt;</td>\n",
       "    </tr>\n",
       "    <tr>\n",
       "      <th>PromoInterval2</th>\n",
       "      <td>&lt;property object at 0x000002499FC8FB30&gt;</td>\n",
       "    </tr>\n",
       "    <tr>\n",
       "      <th>PromoInterval3</th>\n",
       "      <td>&lt;property object at 0x000002499FC8FB30&gt;</td>\n",
       "    </tr>\n",
       "    <tr>\n",
       "      <th>days_before_state_holiday</th>\n",
       "      <td>&lt;property object at 0x000002499FC8FB30&gt;</td>\n",
       "    </tr>\n",
       "    <tr>\n",
       "      <th>days_after_state_holiday</th>\n",
       "      <td>&lt;property object at 0x000002499FC8FB30&gt;</td>\n",
       "    </tr>\n",
       "    <tr>\n",
       "      <th>Year</th>\n",
       "      <td>&lt;property object at 0x000002499FC8FB30&gt;</td>\n",
       "    </tr>\n",
       "    <tr>\n",
       "      <th>Month</th>\n",
       "      <td>&lt;property object at 0x000002499FC8FB30&gt;</td>\n",
       "    </tr>\n",
       "    <tr>\n",
       "      <th>Day</th>\n",
       "      <td>&lt;property object at 0x000002499FC8FB30&gt;</td>\n",
       "    </tr>\n",
       "    <tr>\n",
       "      <th>WeekOfYear</th>\n",
       "      <td>&lt;property object at 0x000002499FC8FB30&gt;</td>\n",
       "    </tr>\n",
       "    <tr>\n",
       "      <th>Weekends</th>\n",
       "      <td>&lt;property object at 0x000002499FC8FB30&gt;</td>\n",
       "    </tr>\n",
       "    <tr>\n",
       "      <th>Weekdays</th>\n",
       "      <td>&lt;property object at 0x000002499FC8FB30&gt;</td>\n",
       "    </tr>\n",
       "    <tr>\n",
       "      <th>part_of_month</th>\n",
       "      <td>&lt;property object at 0x000002499FC8FB30&gt;</td>\n",
       "    </tr>\n",
       "    <tr>\n",
       "      <th>CompetitionOpen</th>\n",
       "      <td>&lt;property object at 0x000002499FC8FB30&gt;</td>\n",
       "    </tr>\n",
       "    <tr>\n",
       "      <th>Promo2Open</th>\n",
       "      <td>&lt;property object at 0x000002499FC8FB30&gt;</td>\n",
       "    </tr>\n",
       "  </tbody>\n",
       "</table>\n",
       "</div>"
      ],
      "text/plain": [
       "                                                Feature Importance\n",
       "Feature                                                           \n",
       "DayOfWeek                  <property object at 0x000002499FC8FB30>\n",
       "Promo                      <property object at 0x000002499FC8FB30>\n",
       "StateHoliday               <property object at 0x000002499FC8FB30>\n",
       "SchoolHoliday              <property object at 0x000002499FC8FB30>\n",
       "StoreType                  <property object at 0x000002499FC8FB30>\n",
       "Assortment                 <property object at 0x000002499FC8FB30>\n",
       "CompetitionDistance        <property object at 0x000002499FC8FB30>\n",
       "Promo2                     <property object at 0x000002499FC8FB30>\n",
       "PromoInterval0             <property object at 0x000002499FC8FB30>\n",
       "PromoInterval1             <property object at 0x000002499FC8FB30>\n",
       "PromoInterval2             <property object at 0x000002499FC8FB30>\n",
       "PromoInterval3             <property object at 0x000002499FC8FB30>\n",
       "days_before_state_holiday  <property object at 0x000002499FC8FB30>\n",
       "days_after_state_holiday   <property object at 0x000002499FC8FB30>\n",
       "Year                       <property object at 0x000002499FC8FB30>\n",
       "Month                      <property object at 0x000002499FC8FB30>\n",
       "Day                        <property object at 0x000002499FC8FB30>\n",
       "WeekOfYear                 <property object at 0x000002499FC8FB30>\n",
       "Weekends                   <property object at 0x000002499FC8FB30>\n",
       "Weekdays                   <property object at 0x000002499FC8FB30>\n",
       "part_of_month              <property object at 0x000002499FC8FB30>\n",
       "CompetitionOpen            <property object at 0x000002499FC8FB30>\n",
       "Promo2Open                 <property object at 0x000002499FC8FB30>"
      ]
     },
     "execution_count": 23,
     "metadata": {},
     "output_type": "execute_result"
    }
   ],
   "source": [
    "feat_imp = pd.DataFrame({'Feature': features_col, 'Feature Importance': importance})\n",
    "feat_imp = feat_imp.set_index('Feature')\n",
    "#feat_imp = feat_imp.sort_values(by=['Feature Importance'], ascending=False)\n",
    "feat_imp"
   ]
  },
  {
   "cell_type": "code",
   "execution_count": 24,
   "metadata": {
    "collapsed": true
   },
   "outputs": [
    {
     "data": {
      "text/html": [
       "<div>\n",
       "<style scoped>\n",
       "    .dataframe tbody tr th:only-of-type {\n",
       "        vertical-align: middle;\n",
       "    }\n",
       "\n",
       "    .dataframe tbody tr th {\n",
       "        vertical-align: top;\n",
       "    }\n",
       "\n",
       "    .dataframe thead th {\n",
       "        text-align: right;\n",
       "    }\n",
       "</style>\n",
       "<table border=\"1\" class=\"dataframe\">\n",
       "  <thead>\n",
       "    <tr style=\"text-align: right;\">\n",
       "      <th></th>\n",
       "      <th>y_true</th>\n",
       "      <th>y_pred</th>\n",
       "    </tr>\n",
       "  </thead>\n",
       "  <tbody>\n",
       "    <tr>\n",
       "      <th>0</th>\n",
       "      <td>3821</td>\n",
       "      <td>&lt;function LGBMModel.predict at 0x000002499FC85EE0&gt;</td>\n",
       "    </tr>\n",
       "    <tr>\n",
       "      <th>1</th>\n",
       "      <td>10765</td>\n",
       "      <td>&lt;function LGBMModel.predict at 0x000002499FC85EE0&gt;</td>\n",
       "    </tr>\n",
       "    <tr>\n",
       "      <th>2</th>\n",
       "      <td>8498</td>\n",
       "      <td>&lt;function LGBMModel.predict at 0x000002499FC85EE0&gt;</td>\n",
       "    </tr>\n",
       "    <tr>\n",
       "      <th>3</th>\n",
       "      <td>3113</td>\n",
       "      <td>&lt;function LGBMModel.predict at 0x000002499FC85EE0&gt;</td>\n",
       "    </tr>\n",
       "    <tr>\n",
       "      <th>4</th>\n",
       "      <td>17267</td>\n",
       "      <td>&lt;function LGBMModel.predict at 0x000002499FC85EE0&gt;</td>\n",
       "    </tr>\n",
       "  </tbody>\n",
       "</table>\n",
       "</div>"
      ],
      "text/plain": [
       "   y_true                                              y_pred\n",
       "0    3821  <function LGBMModel.predict at 0x000002499FC85EE0>\n",
       "1   10765  <function LGBMModel.predict at 0x000002499FC85EE0>\n",
       "2    8498  <function LGBMModel.predict at 0x000002499FC85EE0>\n",
       "3    3113  <function LGBMModel.predict at 0x000002499FC85EE0>\n",
       "4   17267  <function LGBMModel.predict at 0x000002499FC85EE0>"
      ]
     },
     "execution_count": 24,
     "metadata": {},
     "output_type": "execute_result"
    }
   ],
   "source": [
    "y_preds = predict\n",
    "prediction_df = train_features.copy()\n",
    "prediction_df[\"y_true\"] = train_sales\n",
    "prediction_df[\"y_pred\"] = y_preds\n",
    "prediction_df[[\"y_true\", \"y_pred\"]].head()"
   ]
  },
  {
   "cell_type": "code",
   "execution_count": null,
   "metadata": {},
   "outputs": [],
   "source": [
    "# sc = StandardScaler()\n",
    "# X_train = sc.fit_transform(X_train)\n",
    "# X_test = sc.transform(X_test)"
   ]
  },
  {
   "cell_type": "code",
   "execution_count": null,
   "metadata": {},
   "outputs": [],
   "source": [
    "# regressor = RandomForestRegressor(n_estimators=20, random_state=0)\n",
    "# regressor.fit(X_train, y_train)\n",
    "# y_pred = regressor.predict(X_test)"
   ]
  },
  {
   "cell_type": "code",
   "execution_count": null,
   "metadata": {},
   "outputs": [],
   "source": [
    "# from sklearn import metrics\n",
    "\n",
    "# print('Mean Absolute Error:', metrics.mean_absolute_error(y_test, y_pred))\n",
    "# print('Mean Squared Error:', metrics.mean_squared_error(y_test, y_pred))\n",
    "# print('Root Mean Squared Error:', np.sqrt(metrics.mean_squared_error(y_test, y_pred)))"
   ]
  }
 ],
 "metadata": {
  "kernelspec": {
   "display_name": "Python 3 (ipykernel)",
   "language": "python",
   "name": "python3"
  },
  "language_info": {
   "codemirror_mode": {
    "name": "ipython",
    "version": 3
   },
   "file_extension": ".py",
   "mimetype": "text/x-python",
   "name": "python",
   "nbconvert_exporter": "python",
   "pygments_lexer": "ipython3",
   "version": "3.9.6"
  }
 },
 "nbformat": 4,
 "nbformat_minor": 2
}
