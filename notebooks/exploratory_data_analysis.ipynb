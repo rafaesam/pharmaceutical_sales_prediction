{
 "cells": [
  {
   "cell_type": "markdown",
   "id": "6f337888",
   "metadata": {},
   "source": [
    "# Exploration of Data"
   ]
  },
  {
   "cell_type": "code",
   "execution_count": null,
   "id": "ad788047",
   "metadata": {},
   "outputs": [],
   "source": [
    "import warnings\n",
    "import pandas as pd\n",
    "import seaborn as sns\n",
    "import numpy as np\n",
    "from matplotlib import pyplot as plt\n",
    "import os,sys\n",
    "sys.path.append(os.path.abspath(os.path.join('..')))\n",
    "from scripts.dataframe_overview import DfOverview\n",
    "from scripts.dataframe_cleaner import DfCleaner"
   ]
  },
  {
   "cell_type": "code",
   "execution_count": null,
   "id": "82c95658",
   "metadata": {},
   "outputs": [],
   "source": [
    "sns.set()\n",
    "%matplotlib inline\n",
    "warnings.filterwarnings(\"ignore\")\n",
    "pd.set_option('display.max_columns', None)\n",
    "pd.set_option('display.max_colwidth', None)\n",
    "pd.set_option('expand_frame_repr', False)\n",
    "pd.set_option('display.float_format', '{:.2f}'.format)"
   ]
  },
  {
   "cell_type": "markdown",
   "id": "dd0f6598",
   "metadata": {},
   "source": [
    "* Q.1 Check for distribution in both training and test sets - are the promotions distributed similarly between these two groups?"
   ]
  },
  {
   "cell_type": "code",
   "execution_count": null,
   "id": "eff7f6f6",
   "metadata": {},
   "outputs": [],
   "source": [
    "train_data = cleaned_df_train\n",
    "test_data = cleaned_df_test"
   ]
  },
  {
   "cell_type": "code",
   "execution_count": null,
   "id": "d980e663",
   "metadata": {},
   "outputs": [],
   "source": [
    "def compare(train_data, test_data, feature, title):\n",
    "  fig, ax = plt.subplots(1, 2, sharex=True, figsize=(12, 4))\n",
    "  ax[0].set_title(\"Train data\" + title)\n",
    "  sns.countplot(x=feature, data=train_data, ax=ax[0])\n",
    "  ax[1].set_title(\"Test data\" + title)\n",
    "  sns.countplot(x=feature, data=test_data, ax=ax[1])\n",
    "  fig.subplots_adjust(wspace=0.5)\n",
    "  fig.show()"
   ]
  },
  {
   "cell_type": "code",
   "execution_count": null,
   "id": "8cbe4e04",
   "metadata": {},
   "outputs": [],
   "source": [
    "prom = [\"not participating\", \"participating\"]\n",
    "train_data[\"Promo\"] = train_data[\"Promo\"].apply(lambda x: prom[x])\n",
    "test_data[\"Promo\"] = test_data[\"Promo\"].apply(lambda x: prom[x])\n",
    "compare(train_data, test_data, 'Promo', \"Promo Count\")"
   ]
  },
  {
   "cell_type": "markdown",
   "id": "e14ea083",
   "metadata": {},
   "source": [
    "The distribution is just the same for the training and test data between not participating = 0 and participating = 1 for promotins"
   ]
  },
  {
   "cell_type": "markdown",
   "id": "10bb226f",
   "metadata": {},
   "source": [
    "* Q.2 Check & compare sales behavior before, during and after holidays\n",
    "    We have mainly three holidays state holiday(divided into many inside it weekend, easter,...) and school holiday."
   ]
  },
  {
   "cell_type": "code",
   "execution_count": null,
   "id": "fecd78b9",
   "metadata": {},
   "outputs": [],
   "source": [
    "s_h_train = train_data.groupby(['StateHoliday']).agg({'StateHoliday': ['count']})\n",
    "s_h_train.columns = ['count']\n",
    "s_h_train = s_h_train.reset_index()\n",
    "s_h_train[\"StateHoliday\"] = s_h_train[\"StateHoliday\"]\n",
    "s_h_train"
   ]
  }
 ],
 "metadata": {
  "kernelspec": {
   "display_name": "Python 3 (ipykernel)",
   "language": "python",
   "name": "python3"
  },
  "language_info": {
   "codemirror_mode": {
    "name": "ipython",
    "version": 3
   },
   "file_extension": ".py",
   "mimetype": "text/x-python",
   "name": "python",
   "nbconvert_exporter": "python",
   "pygments_lexer": "ipython3",
   "version": "3.9.6"
  }
 },
 "nbformat": 4,
 "nbformat_minor": 5
}
