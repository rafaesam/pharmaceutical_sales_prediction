{
 "cells": [
  {
   "cell_type": "markdown",
   "id": "b8ba431c",
   "metadata": {},
   "source": [
    "# Exploration of Data"
   ]
  },
  {
   "cell_type": "code",
   "execution_count": 1,
   "id": "0546cdc0",
   "metadata": {},
   "outputs": [],
   "source": [
    "import warnings\n",
    "import pandas as pd\n",
    "import seaborn as sns\n",
    "import numpy as np\n",
    "from matplotlib import pyplot as plt\n",
    "import os,sys\n",
    "sys.path.append(os.path.abspath(os.path.join('..')))\n",
    "from scripts.dataframe_overview import DfOverview\n",
    "from scripts.dataframe_cleaner import DfCleaner"
   ]
  },
  {
   "cell_type": "code",
   "execution_count": 2,
   "id": "6737bb7f",
   "metadata": {},
   "outputs": [],
   "source": [
    "cleaned_df_store = pd.read_csv('../data/cleaned_store.csv')\n",
    "cleaned_df_test = pd.read_csv('../data/cleaned_test.csv')\n",
    "cleaned_df_train = pd.read_csv('../data/cleaned_train.csv')"
   ]
  },
  {
   "cell_type": "code",
   "execution_count": 3,
   "id": "6b0708ae",
   "metadata": {},
   "outputs": [],
   "source": [
    "sns.set()\n",
    "%matplotlib inline\n",
    "warnings.filterwarnings(\"ignore\")\n",
    "pd.set_option('display.max_columns', None)\n",
    "pd.set_option('display.max_colwidth', None)\n",
    "pd.set_option('expand_frame_repr', False)\n",
    "pd.set_option('display.float_format', '{:.2f}'.format)"
   ]
  },
  {
   "cell_type": "markdown",
   "id": "9aeda3f0",
   "metadata": {},
   "source": [
    "* Q.1 Check for distribution in both training and test sets - are the promotions distributed similarly between these two groups?"
   ]
  },
  {
   "cell_type": "code",
   "execution_count": 4,
   "id": "91e332c1",
   "metadata": {},
   "outputs": [],
   "source": [
    "train_data = cleaned_df_train\n",
    "test_data = cleaned_df_test"
   ]
  },
  {
   "cell_type": "code",
   "execution_count": 5,
   "id": "6968eddf",
   "metadata": {},
   "outputs": [],
   "source": [
    "def compare(train_data, test_data, feature, title):\n",
    "  fig, ax = plt.subplots(1, 2, sharex=True, figsize=(12, 4))\n",
    "  ax[0].set_title(\"Train data\" + title)\n",
    "  sns.countplot(x=feature, data=train_data, ax=ax[0])\n",
    "  ax[1].set_title(\"Test data\" + title)\n",
    "  sns.countplot(x=feature, data=test_data, ax=ax[1])\n",
    "  fig.subplots_adjust(wspace=0.5)\n",
    "  fig.show()"
   ]
  },
  {
   "cell_type": "code",
   "execution_count": 6,
   "id": "74f30abd",
   "metadata": {},
   "outputs": [
    {
     "data": {
      "image/png": "[encoded data removed]",
      "text/plain": [
       "<Figure size 864x288 with 2 Axes>"
      ]
     },
     "metadata": {
      "needs_background": "light"
     },
     "output_type": "display_data"
    }
   ],
   "source": [
    "prom = [\"not participating\", \"participating\"]\n",
    "train_data[\"Promo\"] = train_data[\"Promo\"].apply(lambda x: prom[x])\n",
    "test_data[\"Promo\"] = test_data[\"Promo\"].apply(lambda x: prom[x])\n",
    "compare(train_data, test_data, 'Promo', \"Promo Count\")"
   ]
  },
  {
   "cell_type": "markdown",
   "id": "aae6881e",
   "metadata": {},
   "source": [
    "The distribution is just the same for the training and test data between not participating = 0 and participating = 1 for promotins"
   ]
  },
  {
   "cell_type": "markdown",
   "id": "72f4735e",
   "metadata": {},
   "source": [
    "* Q.2 Check & compare sales behavior before, during and after holidays\n",
    "    We have mainly three holidays state holiday(divided into many inside it weekend, easter,...) and school holiday."
   ]
  },
  {
   "cell_type": "code",
   "execution_count": 7,
   "id": "e8391e2d",
   "metadata": {},
   "outputs": [
    {
     "data": {
      "text/html": [
       "<div>\n",
       "<style scoped>\n",
       "    .dataframe tbody tr th:only-of-type {\n",
       "        vertical-align: middle;\n",
       "    }\n",
       "\n",
       "    .dataframe tbody tr th {\n",
       "        vertical-align: top;\n",
       "    }\n",
       "\n",
       "    .dataframe thead th {\n",
       "        text-align: right;\n",
       "    }\n",
       "</style>\n",
       "<table border=\"1\" class=\"dataframe\">\n",
       "  <thead>\n",
       "    <tr style=\"text-align: right;\">\n",
       "      <th></th>\n",
       "      <th>StateHoliday</th>\n",
       "      <th>Sales</th>\n",
       "    </tr>\n",
       "  </thead>\n",
       "  <tbody>\n",
       "    <tr>\n",
       "      <th>0</th>\n",
       "      <td>Normal day</td>\n",
       "      <td>5947.48</td>\n",
       "    </tr>\n",
       "    <tr>\n",
       "      <th>1</th>\n",
       "      <td>Public holiday</td>\n",
       "      <td>290.74</td>\n",
       "    </tr>\n",
       "    <tr>\n",
       "      <th>2</th>\n",
       "      <td>Easter holiday</td>\n",
       "      <td>214.31</td>\n",
       "    </tr>\n",
       "    <tr>\n",
       "      <th>3</th>\n",
       "      <td>Christmas</td>\n",
       "      <td>168.73</td>\n",
       "    </tr>\n",
       "  </tbody>\n",
       "</table>\n",
       "</div>"
      ],
      "text/plain": [
       "     StateHoliday   Sales\n",
       "0      Normal day 5947.48\n",
       "1  Public holiday  290.74\n",
       "2  Easter holiday  214.31\n",
       "3       Christmas  168.73"
      ]
     },
     "execution_count": 7,
     "metadata": {},
     "output_type": "execute_result"
    }
   ],
   "source": [
    "state_holidays = [\"Normal day\", \"Public holiday\", \"Easter holiday\", \"Christmas\"]\n",
    "s_h_train = train_data.groupby(['StateHoliday']).agg({'Sales':'mean'})\n",
    "s_h_train.columns = ['Sales']\n",
    "s_h_train = s_h_train.reset_index()\n",
    "s_h_train[\"StateHoliday\"] = s_h_train[\"StateHoliday\"].apply(lambda x: state_holidays[x])\n",
    "s_h_train"
   ]
  },
  {
   "cell_type": "code",
   "execution_count": 8,
   "id": "c0d12668",
   "metadata": {},
   "outputs": [
    {
     "name": "stdout",
     "output_type": "stream",
     "text": [
      "<class 'pandas.core.frame.DataFrame'>\n",
      "Int64Index: 1017209 entries, 0 to 1017208\n",
      "Data columns (total 24 columns):\n",
      " #   Column                     Non-Null Count    Dtype \n",
      "---  ------                     --------------    ----- \n",
      " 0   index                      1017209 non-null  int64 \n",
      " 1   Unnamed: 0_x               1017209 non-null  int64 \n",
      " 2   Store                      1017209 non-null  int64 \n",
      " 3   DayOfWeek                  1017209 non-null  int64 \n",
      " 4   Date                       1017209 non-null  object\n",
      " 5   Sales                      1017209 non-null  int64 \n",
      " 6   Customers                  1017209 non-null  int64 \n",
      " 7   Open                       1017209 non-null  int64 \n",
      " 8   Promo                      1017209 non-null  object\n",
      " 9   StateHoliday               1017209 non-null  int64 \n",
      " 10  SchoolHoliday              1017209 non-null  int64 \n",
      " 11  Unnamed: 0_y               1017209 non-null  int64 \n",
      " 12  StoreType                  1017209 non-null  int64 \n",
      " 13  Assortment                 1017209 non-null  int64 \n",
      " 14  CompetitionDistance        1017209 non-null  int64 \n",
      " 15  CompetitionOpenSinceMonth  1017209 non-null  int64 \n",
      " 16  CompetitionOpenSinceYear   1017209 non-null  int64 \n",
      " 17  Promo2                     1017209 non-null  int64 \n",
      " 18  Promo2SinceWeek            1017209 non-null  int64 \n",
      " 19  Promo2SinceYear            1017209 non-null  int64 \n",
      " 20  PromoInterval0             1017209 non-null  int64 \n",
      " 21  PromoInterval1             1017209 non-null  int64 \n",
      " 22  PromoInterval2             1017209 non-null  int64 \n",
      " 23  PromoInterval3             1017209 non-null  int64 \n",
      "dtypes: int64(22), object(2)\n",
      "memory usage: 194.0+ MB\n"
     ]
    }
   ],
   "source": [
    "df_train_store = pd.merge(cleaned_df_train.reset_index(), cleaned_df_store, how='inner', on='Store')\n",
    "df_train_store.info()"
   ]
  },
  {
   "cell_type": "code",
   "execution_count": 9,
   "id": "0959690e",
   "metadata": {},
   "outputs": [
    {
     "data": {
      "text/plain": [
       "2015"
      ]
     },
     "execution_count": 9,
     "metadata": {},
     "output_type": "execute_result"
    }
   ],
   "source": [
    "df_train_store['Date'] = pd.DatetimeIndex(df_train_store['Date'])\n",
    "df_train_store['Year'] = pd.DatetimeIndex(df_train_store['Date']).year\n",
    "df_train_store['Month'] = pd.DatetimeIndex(df_train_store['Date']).month\n",
    "df_train_store['Day'] = pd.DatetimeIndex(df_train_store['Date']).day\n",
    "df_train_store['Year'].min()\n",
    "df_train_store['Year'].max()"
   ]
  },
  {
   "cell_type": "markdown",
   "id": "8297349c",
   "metadata": {},
   "source": [
    "We can see the range of the years for this data is between 2013-2015"
   ]
  },
  {
   "cell_type": "code",
   "execution_count": 10,
   "id": "ce6462cc",
   "metadata": {},
   "outputs": [],
   "source": [
    "df_t_s = df_train_store.drop(df_train_store.columns[1], axis=1)"
   ]
  },
  {
   "cell_type": "code",
   "execution_count": 11,
   "id": "d6109576",
   "metadata": {},
   "outputs": [],
   "source": [
    "df_t_s = df_t_s.drop(df_t_s.columns[10], axis=1)"
   ]
  },
  {
   "cell_type": "code",
   "execution_count": 12,
   "id": "f805665e",
   "metadata": {},
   "outputs": [
    {
     "name": "stdout",
     "output_type": "stream",
     "text": [
      "<class 'pandas.core.frame.DataFrame'>\n",
      "Int64Index: 1017209 entries, 0 to 1017208\n",
      "Data columns (total 25 columns):\n",
      " #   Column                     Non-Null Count    Dtype         \n",
      "---  ------                     --------------    -----         \n",
      " 0   index                      1017209 non-null  int64         \n",
      " 1   Store                      1017209 non-null  int64         \n",
      " 2   DayOfWeek                  1017209 non-null  int64         \n",
      " 3   Date                       1017209 non-null  datetime64[ns]\n",
      " 4   Sales                      1017209 non-null  int64         \n",
      " 5   Customers                  1017209 non-null  int64         \n",
      " 6   Open                       1017209 non-null  int64         \n",
      " 7   Promo                      1017209 non-null  object        \n",
      " 8   StateHoliday               1017209 non-null  int64         \n",
      " 9   SchoolHoliday              1017209 non-null  int64         \n",
      " 10  StoreType                  1017209 non-null  int64         \n",
      " 11  Assortment                 1017209 non-null  int64         \n",
      " 12  CompetitionDistance        1017209 non-null  int64         \n",
      " 13  CompetitionOpenSinceMonth  1017209 non-null  int64         \n",
      " 14  CompetitionOpenSinceYear   1017209 non-null  int64         \n",
      " 15  Promo2                     1017209 non-null  int64         \n",
      " 16  Promo2SinceWeek            1017209 non-null  int64         \n",
      " 17  Promo2SinceYear            1017209 non-null  int64         \n",
      " 18  PromoInterval0             1017209 non-null  int64         \n",
      " 19  PromoInterval1             1017209 non-null  int64         \n",
      " 20  PromoInterval2             1017209 non-null  int64         \n",
      " 21  PromoInterval3             1017209 non-null  int64         \n",
      " 22  Year                       1017209 non-null  int64         \n",
      " 23  Month                      1017209 non-null  int64         \n",
      " 24  Day                        1017209 non-null  int64         \n",
      "dtypes: datetime64[ns](1), int64(23), object(1)\n",
      "memory usage: 201.8+ MB\n"
     ]
    }
   ],
   "source": [
    "df_t_s.info()"
   ]
  },
  {
   "cell_type": "code",
   "execution_count": 13,
   "id": "138e693c",
   "metadata": {},
   "outputs": [
    {
     "data": {
      "text/html": [
       "<div>\n",
       "<style scoped>\n",
       "    .dataframe tbody tr th:only-of-type {\n",
       "        vertical-align: middle;\n",
       "    }\n",
       "\n",
       "    .dataframe tbody tr th {\n",
       "        vertical-align: top;\n",
       "    }\n",
       "\n",
       "    .dataframe thead th {\n",
       "        text-align: right;\n",
       "    }\n",
       "</style>\n",
       "<table border=\"1\" class=\"dataframe\">\n",
       "  <thead>\n",
       "    <tr style=\"text-align: right;\">\n",
       "      <th></th>\n",
       "      <th>index</th>\n",
       "      <th>Store</th>\n",
       "      <th>DayOfWeek</th>\n",
       "      <th>Sales</th>\n",
       "      <th>Customers</th>\n",
       "      <th>Open</th>\n",
       "      <th>StateHoliday</th>\n",
       "      <th>SchoolHoliday</th>\n",
       "      <th>StoreType</th>\n",
       "      <th>Assortment</th>\n",
       "      <th>CompetitionDistance</th>\n",
       "      <th>CompetitionOpenSinceMonth</th>\n",
       "      <th>CompetitionOpenSinceYear</th>\n",
       "      <th>Promo2</th>\n",
       "      <th>Promo2SinceWeek</th>\n",
       "      <th>Promo2SinceYear</th>\n",
       "      <th>PromoInterval0</th>\n",
       "      <th>PromoInterval1</th>\n",
       "      <th>PromoInterval2</th>\n",
       "      <th>PromoInterval3</th>\n",
       "      <th>Year</th>\n",
       "      <th>Month</th>\n",
       "      <th>Day</th>\n",
       "    </tr>\n",
       "  </thead>\n",
       "  <tbody>\n",
       "    <tr>\n",
       "      <th>count</th>\n",
       "      <td>1017209.00</td>\n",
       "      <td>1017209.00</td>\n",
       "      <td>1017209.00</td>\n",
       "      <td>1017209.00</td>\n",
       "      <td>1017209.00</td>\n",
       "      <td>1017209.00</td>\n",
       "      <td>1017209.00</td>\n",
       "      <td>1017209.00</td>\n",
       "      <td>1017209.00</td>\n",
       "      <td>1017209.00</td>\n",
       "      <td>1017209.00</td>\n",
       "      <td>1017209.00</td>\n",
       "      <td>1017209.00</td>\n",
       "      <td>1017209.00</td>\n",
       "      <td>1017209.00</td>\n",
       "      <td>1017209.00</td>\n",
       "      <td>1017209.00</td>\n",
       "      <td>1017209.00</td>\n",
       "      <td>1017209.00</td>\n",
       "      <td>1017209.00</td>\n",
       "      <td>1017209.00</td>\n",
       "      <td>1017209.00</td>\n",
       "      <td>1017209.00</td>\n",
       "    </tr>\n",
       "    <tr>\n",
       "      <th>mean</th>\n",
       "      <td>508604.00</td>\n",
       "      <td>558.43</td>\n",
       "      <td>4.00</td>\n",
       "      <td>5773.82</td>\n",
       "      <td>633.15</td>\n",
       "      <td>0.83</td>\n",
       "      <td>0.05</td>\n",
       "      <td>0.18</td>\n",
       "      <td>1.21</td>\n",
       "      <td>0.94</td>\n",
       "      <td>5422.02</td>\n",
       "      <td>5.24</td>\n",
       "      <td>2002.75</td>\n",
       "      <td>0.50</td>\n",
       "      <td>11.65</td>\n",
       "      <td>1007.01</td>\n",
       "      <td>0.81</td>\n",
       "      <td>2.31</td>\n",
       "      <td>3.81</td>\n",
       "      <td>5.31</td>\n",
       "      <td>2013.83</td>\n",
       "      <td>5.85</td>\n",
       "      <td>15.70</td>\n",
       "    </tr>\n",
       "    <tr>\n",
       "      <th>std</th>\n",
       "      <td>293643.09</td>\n",
       "      <td>321.91</td>\n",
       "      <td>2.00</td>\n",
       "      <td>3849.93</td>\n",
       "      <td>464.41</td>\n",
       "      <td>0.38</td>\n",
       "      <td>0.28</td>\n",
       "      <td>0.38</td>\n",
       "      <td>1.37</td>\n",
       "      <td>0.99</td>\n",
       "      <td>7706.92</td>\n",
       "      <td>3.93</td>\n",
       "      <td>10.01</td>\n",
       "      <td>0.50</td>\n",
       "      <td>15.32</td>\n",
       "      <td>1005.88</td>\n",
       "      <td>0.98</td>\n",
       "      <td>2.37</td>\n",
       "      <td>3.85</td>\n",
       "      <td>5.34</td>\n",
       "      <td>0.78</td>\n",
       "      <td>3.33</td>\n",
       "      <td>8.79</td>\n",
       "    </tr>\n",
       "    <tr>\n",
       "      <th>min</th>\n",
       "      <td>0.00</td>\n",
       "      <td>1.00</td>\n",
       "      <td>1.00</td>\n",
       "      <td>0.00</td>\n",
       "      <td>0.00</td>\n",
       "      <td>0.00</td>\n",
       "      <td>0.00</td>\n",
       "      <td>0.00</td>\n",
       "      <td>0.00</td>\n",
       "      <td>0.00</td>\n",
       "      <td>20.00</td>\n",
       "      <td>1.00</td>\n",
       "      <td>1900.00</td>\n",
       "      <td>0.00</td>\n",
       "      <td>0.00</td>\n",
       "      <td>0.00</td>\n",
       "      <td>0.00</td>\n",
       "      <td>0.00</td>\n",
       "      <td>0.00</td>\n",
       "      <td>0.00</td>\n",
       "      <td>2013.00</td>\n",
       "      <td>1.00</td>\n",
       "      <td>1.00</td>\n",
       "    </tr>\n",
       "    <tr>\n",
       "      <th>25%</th>\n",
       "      <td>254302.00</td>\n",
       "      <td>280.00</td>\n",
       "      <td>2.00</td>\n",
       "      <td>3727.00</td>\n",
       "      <td>405.00</td>\n",
       "      <td>1.00</td>\n",
       "      <td>0.00</td>\n",
       "      <td>0.00</td>\n",
       "      <td>0.00</td>\n",
       "      <td>0.00</td>\n",
       "      <td>710.00</td>\n",
       "      <td>1.00</td>\n",
       "      <td>1990.00</td>\n",
       "      <td>0.00</td>\n",
       "      <td>0.00</td>\n",
       "      <td>0.00</td>\n",
       "      <td>0.00</td>\n",
       "      <td>0.00</td>\n",
       "      <td>0.00</td>\n",
       "      <td>0.00</td>\n",
       "      <td>2013.00</td>\n",
       "      <td>3.00</td>\n",
       "      <td>8.00</td>\n",
       "    </tr>\n",
       "    <tr>\n",
       "      <th>50%</th>\n",
       "      <td>508604.00</td>\n",
       "      <td>558.00</td>\n",
       "      <td>4.00</td>\n",
       "      <td>5744.00</td>\n",
       "      <td>609.00</td>\n",
       "      <td>1.00</td>\n",
       "      <td>0.00</td>\n",
       "      <td>0.00</td>\n",
       "      <td>0.00</td>\n",
       "      <td>0.00</td>\n",
       "      <td>2325.00</td>\n",
       "      <td>4.00</td>\n",
       "      <td>2006.00</td>\n",
       "      <td>1.00</td>\n",
       "      <td>1.00</td>\n",
       "      <td>2009.00</td>\n",
       "      <td>1.00</td>\n",
       "      <td>4.00</td>\n",
       "      <td>7.00</td>\n",
       "      <td>10.00</td>\n",
       "      <td>2014.00</td>\n",
       "      <td>6.00</td>\n",
       "      <td>16.00</td>\n",
       "    </tr>\n",
       "    <tr>\n",
       "      <th>75%</th>\n",
       "      <td>762906.00</td>\n",
       "      <td>838.00</td>\n",
       "      <td>6.00</td>\n",
       "      <td>7856.00</td>\n",
       "      <td>837.00</td>\n",
       "      <td>1.00</td>\n",
       "      <td>0.00</td>\n",
       "      <td>0.00</td>\n",
       "      <td>3.00</td>\n",
       "      <td>2.00</td>\n",
       "      <td>6880.00</td>\n",
       "      <td>9.00</td>\n",
       "      <td>2011.00</td>\n",
       "      <td>1.00</td>\n",
       "      <td>22.00</td>\n",
       "      <td>2012.00</td>\n",
       "      <td>1.00</td>\n",
       "      <td>4.00</td>\n",
       "      <td>7.00</td>\n",
       "      <td>10.00</td>\n",
       "      <td>2014.00</td>\n",
       "      <td>8.00</td>\n",
       "      <td>23.00</td>\n",
       "    </tr>\n",
       "    <tr>\n",
       "      <th>max</th>\n",
       "      <td>1017208.00</td>\n",
       "      <td>1115.00</td>\n",
       "      <td>7.00</td>\n",
       "      <td>41551.00</td>\n",
       "      <td>7388.00</td>\n",
       "      <td>1.00</td>\n",
       "      <td>3.00</td>\n",
       "      <td>1.00</td>\n",
       "      <td>3.00</td>\n",
       "      <td>2.00</td>\n",
       "      <td>75860.00</td>\n",
       "      <td>12.00</td>\n",
       "      <td>2015.00</td>\n",
       "      <td>1.00</td>\n",
       "      <td>50.00</td>\n",
       "      <td>2015.00</td>\n",
       "      <td>3.00</td>\n",
       "      <td>6.00</td>\n",
       "      <td>9.00</td>\n",
       "      <td>12.00</td>\n",
       "      <td>2015.00</td>\n",
       "      <td>12.00</td>\n",
       "      <td>31.00</td>\n",
       "    </tr>\n",
       "  </tbody>\n",
       "</table>\n",
       "</div>"
      ],
      "text/plain": [
       "           index      Store  DayOfWeek      Sales  Customers       Open  StateHoliday  SchoolHoliday  StoreType  Assortment  CompetitionDistance  CompetitionOpenSinceMonth  CompetitionOpenSinceYear     Promo2  Promo2SinceWeek  Promo2SinceYear  PromoInterval0  PromoInterval1  PromoInterval2  PromoInterval3       Year      Month        Day\n",
       "count 1017209.00 1017209.00 1017209.00 1017209.00 1017209.00 1017209.00    1017209.00     1017209.00 1017209.00  1017209.00           1017209.00                 1017209.00                1017209.00 1017209.00       1017209.00       1017209.00      1017209.00      1017209.00      1017209.00      1017209.00 1017209.00 1017209.00 1017209.00\n",
       "mean   508604.00     558.43       4.00    5773.82     633.15       0.83          0.05           0.18       1.21        0.94              5422.02                       5.24                   2002.75       0.50            11.65          1007.01            0.81            2.31            3.81            5.31    2013.83       5.85      15.70\n",
       "std    293643.09     321.91       2.00    3849.93     464.41       0.38          0.28           0.38       1.37        0.99              7706.92                       3.93                     10.01       0.50            15.32          1005.88            0.98            2.37            3.85            5.34       0.78       3.33       8.79\n",
       "min         0.00       1.00       1.00       0.00       0.00       0.00          0.00           0.00       0.00        0.00                20.00                       1.00                   1900.00       0.00             0.00             0.00            0.00            0.00            0.00            0.00    2013.00       1.00       1.00\n",
       "25%    254302.00     280.00       2.00    3727.00     405.00       1.00          0.00           0.00       0.00        0.00               710.00                       1.00                   1990.00       0.00             0.00             0.00            0.00            0.00            0.00            0.00    2013.00       3.00       8.00\n",
       "50%    508604.00     558.00       4.00    5744.00     609.00       1.00          0.00           0.00       0.00        0.00              2325.00                       4.00                   2006.00       1.00             1.00          2009.00            1.00            4.00            7.00           10.00    2014.00       6.00      16.00\n",
       "75%    762906.00     838.00       6.00    7856.00     837.00       1.00          0.00           0.00       3.00        2.00              6880.00                       9.00                   2011.00       1.00            22.00          2012.00            1.00            4.00            7.00           10.00    2014.00       8.00      23.00\n",
       "max   1017208.00    1115.00       7.00   41551.00    7388.00       1.00          3.00           1.00       3.00        2.00             75860.00                      12.00                   2015.00       1.00            50.00          2015.00            3.00            6.00            9.00           12.00    2015.00      12.00      31.00"
      ]
     },
     "execution_count": 13,
     "metadata": {},
     "output_type": "execute_result"
    }
   ],
   "source": [
    "df_t_s.describe()"
   ]
  },
  {
   "cell_type": "code",
   "execution_count": 14,
   "id": "98a21a35",
   "metadata": {},
   "outputs": [
    {
     "data": {
      "text/html": [
       "<div>\n",
       "<style scoped>\n",
       "    .dataframe tbody tr th:only-of-type {\n",
       "        vertical-align: middle;\n",
       "    }\n",
       "\n",
       "    .dataframe tbody tr th {\n",
       "        vertical-align: top;\n",
       "    }\n",
       "\n",
       "    .dataframe thead th {\n",
       "        text-align: right;\n",
       "    }\n",
       "</style>\n",
       "<table border=\"1\" class=\"dataframe\">\n",
       "  <thead>\n",
       "    <tr style=\"text-align: right;\">\n",
       "      <th></th>\n",
       "      <th>StoreType</th>\n",
       "      <th>Customers</th>\n",
       "      <th>Sales</th>\n",
       "    </tr>\n",
       "  </thead>\n",
       "  <tbody>\n",
       "    <tr>\n",
       "      <th>0</th>\n",
       "      <td>a</td>\n",
       "      <td>659.03</td>\n",
       "      <td>5738.18</td>\n",
       "    </tr>\n",
       "    <tr>\n",
       "      <th>1</th>\n",
       "      <td>b</td>\n",
       "      <td>1987.72</td>\n",
       "      <td>10058.84</td>\n",
       "    </tr>\n",
       "    <tr>\n",
       "      <th>2</th>\n",
       "      <td>c</td>\n",
       "      <td>673.27</td>\n",
       "      <td>5723.63</td>\n",
       "    </tr>\n",
       "    <tr>\n",
       "      <th>3</th>\n",
       "      <td>d</td>\n",
       "      <td>501.43</td>\n",
       "      <td>5641.82</td>\n",
       "    </tr>\n",
       "  </tbody>\n",
       "</table>\n",
       "</div>"
      ],
      "text/plain": [
       "  StoreType  Customers    Sales\n",
       "0         a     659.03  5738.18\n",
       "1         b    1987.72 10058.84\n",
       "2         c     673.27  5723.63\n",
       "3         d     501.43  5641.82"
      ]
     },
     "execution_count": 14,
     "metadata": {},
     "output_type": "execute_result"
    }
   ],
   "source": [
    "stores_types = [\"a\", \"b\", \"c\", \"d\"]\n",
    "df_t_s[\"StoreType\"] = df_t_s[\"StoreType\"].apply(lambda x: stores_types[x])\n",
    "store_type = df_t_s.groupby('StoreType').agg({'Customers': 'mean', 'Sales': 'mean'})\n",
    "store_type = store_type.reset_index()\n",
    "store_type"
   ]
  },
  {
   "cell_type": "code",
   "execution_count": 15,
   "id": "7fc49995",
   "metadata": {},
   "outputs": [],
   "source": [
    "def plot_trend(df_t_s, columns, feature, title, x_label=\"\", y_label=\"\", labels=['']):\n",
    "  plt.figure(figsize=(18, 6))\n",
    "  for i in range(len(columns)):\n",
    "    sns.lineplot(x=df_t_s.index, y=df_t_s[columns[i]][feature], label=labels[i])\n",
    "  plt.show()"
   ]
  },
  {
   "cell_type": "code",
   "execution_count": 19,
   "id": "c17cb488",
   "metadata": {},
   "outputs": [],
   "source": [
    "monthly_trend = df_t_s.groupby(['Month', 'StoreType']).agg( {'Customers': 'mean', 'Sales': 'mean'})\n",
    "monthly_trend = monthly_trend.unstack().swaplevel(0, 1, 1).sort_index(1)"
   ]
  },
  {
   "cell_type": "code",
   "execution_count": 20,
   "id": "852b539a",
   "metadata": {},
   "outputs": [
    {
     "data": {
      "image/png": "[encoded data removed]",
      "text/plain": [
       "<Figure size 1296x432 with 1 Axes>"
      ]
     },
     "metadata": {
      "needs_background": "light"
     },
     "output_type": "display_data"
    }
   ],
   "source": [
    "columns = [\"a\", \"b\", \"c\", \"d\"]\n",
    "plot_trend(monthly_trend, columns, 'Sales', 'Average Monthly sales', labels=columns)"
   ]
  },
  {
   "cell_type": "code",
   "execution_count": null,
   "id": "26541edf",
   "metadata": {},
   "outputs": [],
   "source": []
  }
 ],
 "metadata": {
  "kernelspec": {
   "display_name": "Python 3 (ipykernel)",
   "language": "python",
   "name": "python3"
  },
  "language_info": {
   "codemirror_mode": {
    "name": "ipython",
    "version": 3
   },
   "file_extension": ".py",
   "mimetype": "text/x-python",
   "name": "python",
   "nbconvert_exporter": "python",
   "pygments_lexer": "ipython3",
   "version": "3.9.6"
  }
 },
 "nbformat": 4,
 "nbformat_minor": 5
}
