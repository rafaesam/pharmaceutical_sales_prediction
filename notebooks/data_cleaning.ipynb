{
 "cells": [
  {
   "cell_type": "markdown",
   "id": "e4b31686",
   "metadata": {},
   "source": [
    "## Preprocessing of Data\n",
    "Data Cleaning, We start by importing libraries"
   ]
  },
  {
   "cell_type": "code",
   "execution_count": null,
   "id": "7e985f1a",
   "metadata": {},
   "outputs": [],
   "source": [
    "import warnings\n",
    "import pandas as pd\n",
    "import seaborn as sns\n",
    "import numpy as np\n",
    "from matplotlib import pyplot as plt"
   ]
  },
  {
   "cell_type": "code",
   "execution_count": null,
   "id": "10e58d2c",
   "metadata": {},
   "outputs": [],
   "source": [
    "sns.set()\n",
    "%matplotlib inline\n",
    "warnings.filterwarnings(\"ignore\")\n",
    "pd.set_option('display.max_columns', None)\n",
    "pd.set_option('display.max_colwidth', None)\n",
    "pd.set_option('expand_frame_repr', False)\n",
    "pd.set_option('display.float_format', '{:.2f}'.format)"
   ]
  },
  {
   "cell_type": "code",
   "execution_count": null,
   "id": "2bbf83b5",
   "metadata": {},
   "outputs": [],
   "source": [
    "#missing_values = [\"n/a\", \"na\", \"undefined\", float(np.nan)]\n",
    "df_store = pd.read_csv('../data/store.csv')\n",
    "df_sample = pd.read_csv('../data/test.csv')\n",
    "df_train = pd.read_csv('../data/train.csv')"
   ]
  },
  {
   "cell_type": "markdown",
   "id": "f3d086b9",
   "metadata": {},
   "source": [
    "We already have a brief description of fields in our dataset:\n",
    "* __Id__ - an Id that represents a (Store, Date) duple within the test set\n",
    "* __Store__ - a unique Id for each store\n",
    "* __Sales__ - the turnover for any given day (this is what you are predicting)\n",
    "* __Customers__ - the number of customers on a given day\n",
    "* __Open__ - an indicator for whether the store was open: 0 = closed, 1 = open\n",
    "* __StateHoliday__ - indicates a state holiday. Normally all stores, with few exceptions, are closed on state holidays. Note that all schools are closed on public holidays and weekends. a = public holiday, b = Easter holiday, c = Christmas, 0 = None\n",
    "* __SchoolHoliday__ - indicates if the (Store, Date) was affected by the closure of public schools\n",
    "* __StoreType__ - differentiates between 4 different store models: a, b, c, d\n",
    "* __Assortment__ - describes an assortment level: a = basic, b = extra, c = extended. Read more about assortment here\n",
    "* __CompetitionDistance__ - distance in meters to the nearest competitor store\n",
    "* __CompetitionOpenSince__[Month/Year] - gives the approximate year and month of the time the nearest competitor was opened\n",
    "* __Promo__ - indicates whether a store is running a promo on that day\n",
    "* __Promo2__ - Promo2 is a continuing and consecutive promotion for some stores: 0 = store is not participating, 1 = store is participating\n",
    "* __Promo2Since__[Year/Week] - describes the year and calendar week when the store started participating in Promo2\n",
    "* __PromoInterval__ - describes the consecutive intervals Promo2 is started, naming the months the promotion is started anew. E.g. \"Feb,May,Aug,Nov\" means each round starts in February, May, August, November of any given year for that store"
   ]
  },
  {
   "cell_type": "markdown",
   "id": "db396bc1",
   "metadata": {},
   "source": [
    "Now let's take a closer look in the inforamtion of these datasets, e.g. size, shape, missing values, ..etc"
   ]
  },
  {
   "cell_type": "code",
   "execution_count": null,
   "id": "5656bfd5",
   "metadata": {},
   "outputs": [],
   "source": [
    "df_store.info()"
   ]
  },
  {
   "cell_type": "code",
   "execution_count": null,
   "id": "9f932ad1",
   "metadata": {},
   "outputs": [],
   "source": [
    "df_train.info()"
   ]
  },
  {
   "cell_type": "code",
   "execution_count": null,
   "id": "e3a60493",
   "metadata": {},
   "outputs": [],
   "source": [
    "df_test.info()"
   ]
  }
 ],
 "metadata": {
  "kernelspec": {
   "display_name": "Python 3 (ipykernel)",
   "language": "python",
   "name": "python3"
  },
  "language_info": {
   "codemirror_mode": {
    "name": "ipython",
    "version": 3
   },
   "file_extension": ".py",
   "mimetype": "text/x-python",
   "name": "python",
   "nbconvert_exporter": "python",
   "pygments_lexer": "ipython3",
   "version": "3.9.6"
  }
 },
 "nbformat": 4,
 "nbformat_minor": 5
}
